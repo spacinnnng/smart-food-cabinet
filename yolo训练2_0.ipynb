{
  "nbformat": 4,
  "nbformat_minor": 0,
  "metadata": {
    "colab": {
      "provenance": [],
      "gpuType": "T4"
    },
    "kernelspec": {
      "name": "python3",
      "display_name": "Python 3"
    },
    "language_info": {
      "name": "python"
    },
    "accelerator": "GPU"
  },
  "cells": [
    {
      "cell_type": "markdown",
      "source": [
        "# **YOLO模型训练全流程笔记**\n",
        "\n",
        "---\n",
        "\n",
        "\n"
      ],
      "metadata": {
        "id": "UIaVyUSWPEcU"
      }
    },
    {
      "cell_type": "markdown",
      "source": [
        "整体思路参考油管视频：https://www.youtube.com/watch?v=r0RspiLG260"
      ],
      "metadata": {
        "id": "l-SUF9qEPRZv"
      }
    },
    {
      "cell_type": "markdown",
      "source": [
        "注：上面视频中用的标记工具是labelstudio，但我试了一下导出效果不太稳定，所以下面换用了更为稳定的labelImg"
      ],
      "metadata": {
        "id": "wIu1VAT8QN59"
      }
    },
    {
      "cell_type": "markdown",
      "source": [
        "# **1、训练环境检查**"
      ],
      "metadata": {
        "id": "1q1hLQFO1eYC"
      }
    },
    {
      "cell_type": "code",
      "execution_count": null,
      "metadata": {
        "colab": {
          "base_uri": "https://localhost:8080/"
        },
        "id": "czn-QtFj0iPi",
        "outputId": "1a060ee5-816c-4aec-b977-d2a3725f2251"
      },
      "outputs": [
        {
          "output_type": "stream",
          "name": "stdout",
          "text": [
            "Mon Sep  1 07:53:29 2025       \n",
            "+-----------------------------------------------------------------------------------------+\n",
            "| NVIDIA-SMI 550.54.15              Driver Version: 550.54.15      CUDA Version: 12.4     |\n",
            "|-----------------------------------------+------------------------+----------------------+\n",
            "| GPU  Name                 Persistence-M | Bus-Id          Disp.A | Volatile Uncorr. ECC |\n",
            "| Fan  Temp   Perf          Pwr:Usage/Cap |           Memory-Usage | GPU-Util  Compute M. |\n",
            "|                                         |                        |               MIG M. |\n",
            "|=========================================+========================+======================|\n",
            "|   0  Tesla T4                       Off |   00000000:00:04.0 Off |                    0 |\n",
            "| N/A   43C    P8              9W /   70W |       0MiB /  15360MiB |      0%      Default |\n",
            "|                                         |                        |                  N/A |\n",
            "+-----------------------------------------+------------------------+----------------------+\n",
            "                                                                                         \n",
            "+-----------------------------------------------------------------------------------------+\n",
            "| Processes:                                                                              |\n",
            "|  GPU   GI   CI        PID   Type   Process name                              GPU Memory |\n",
            "|        ID   ID                                                               Usage      |\n",
            "|=========================================================================================|\n",
            "|  No running processes found                                                             |\n",
            "+-----------------------------------------------------------------------------------------+\n"
          ]
        }
      ],
      "source": [
        "!nvidia-smi"
      ]
    },
    {
      "cell_type": "markdown",
      "source": [
        "# **2、使用labelImg标注**"
      ],
      "metadata": {
        "id": "VsWGckCN6aYI"
      }
    },
    {
      "cell_type": "markdown",
      "source": [
        "labelImg github仓库链接：https://github.com/HumanSignal/labelImg"
      ],
      "metadata": {
        "id": "QqDEbjSi7GGY"
      }
    },
    {
      "cell_type": "markdown",
      "source": [
        "油管教学视频链接：https://www.youtube.com/watch?v=pTJT8kKi9SM&t=53s"
      ],
      "metadata": {
        "id": "eFjK5Fo3O8QF"
      }
    },
    {
      "cell_type": "markdown",
      "source": [
        "步骤："
      ],
      "metadata": {
        "id": "hHl8m8EdbGVv"
      }
    },
    {
      "cell_type": "markdown",
      "source": [
        "1、创建虚拟环境，注意labelImg版本较老，需要匹配python3.9"
      ],
      "metadata": {
        "id": "52bvoyNTbLXJ"
      }
    },
    {
      "cell_type": "markdown",
      "source": [
        "2、打开terminal，输入labelImg，打开软件，开始标注"
      ],
      "metadata": {
        "id": "H8Fs6H2jbSKP"
      }
    },
    {
      "cell_type": "markdown",
      "source": [
        "3、注意：可以先标注一部分，再加入新图片，再标注。但务必注意，不可以两个文件夹分别标注之后再合并，因为classes.txt可能会冲突！"
      ],
      "metadata": {
        "id": "gFxsE7KPbKbu"
      }
    },
    {
      "cell_type": "markdown",
      "source": [
        "数据集文件夹命名为data，文件夹内部结构及命名如下，方便后续调用python代码分组。"
      ],
      "metadata": {
        "id": "qq-YB92T7TOw"
      }
    },
    {
      "cell_type": "markdown",
      "source": [
        "image可以不全部标注。后面会有代码用于删除冗余图片"
      ],
      "metadata": {
        "id": "6v_C47yb9G1l"
      }
    },
    {
      "cell_type": "markdown",
      "source": [
        "注：发现用微信传输图片可以自动编号，非常方便！"
      ],
      "metadata": {
        "id": "44cphvi1mKgt"
      }
    },
    {
      "cell_type": "markdown",
      "source": [
        "```\n",
        "data/\n",
        "├── images/\n",
        "│   ├── 微信图片_20250731155238_291.jpg\n",
        "│   ├── 微信图片_20250731155238_292.jpg\n",
        "│   ├── 微信图片_20250731155238_293.jpg\n",
        "│   ├── 微信图片_20250731155238_294.jpg\n",
        "│   ├── 微信图片_20250731155238_295.jpg\n",
        "│   └── 微信图片_20250731155238_296.jpg\n",
        "└── labels/\n",
        "    ├── classes.txt\n",
        "    ├── 微信图片_20250731155238_291.txt\n",
        "    ├── 微信图片_20250731155238_292.txt\n",
        "    ├── 微信图片_20250731155238_293.txt\n",
        "    └── 微信图片_20250731155238_294.txt\n",
        "```"
      ],
      "metadata": {
        "id": "oVnspEiP81zt"
      }
    },
    {
      "cell_type": "markdown",
      "source": [
        "# **3、准备训练数据集**"
      ],
      "metadata": {
        "id": "MxZUrcYd6esb"
      }
    },
    {
      "cell_type": "markdown",
      "source": [
        "以data.zip的形式在本笔记中上传data文件夹。"
      ],
      "metadata": {
        "id": "Bc1MoAc_5tPi"
      }
    },
    {
      "cell_type": "markdown",
      "source": [
        "运行以下代码，解压缩数据集data.zip，将其中的所有文件解压到 /content/custom_data 文件夹。"
      ],
      "metadata": {
        "id": "aawa-ffd05Gj"
      }
    },
    {
      "cell_type": "code",
      "source": [
        "!unzip -q /content/data.zip -d /content/custom_data"
      ],
      "metadata": {
        "id": "qF5yTB-j04Th"
      },
      "execution_count": null,
      "outputs": []
    },
    {
      "cell_type": "markdown",
      "source": [
        "运行以下代码，删除未标记的图片。"
      ],
      "metadata": {
        "id": "_ifM-ef68raF"
      }
    },
    {
      "cell_type": "code",
      "source": [
        "import os\n",
        "import glob\n",
        "\n",
        "def filter_images_by_labels(images_dir, labels_dir):\n",
        "    label_files = glob.glob(os.path.join(labels_dir, \"*.txt\"))\n",
        "\n",
        "    label_basenames = set()\n",
        "    for label_file in label_files:\n",
        "        basename = os.path.splitext(os.path.basename(label_file))[0]\n",
        "        label_basenames.add(basename)\n",
        "\n",
        "    image_extensions = ['*.jpg', '*.jpeg', '*.png', '*.bmp', '*.gif', '*.tiff']\n",
        "    image_files = []\n",
        "    for ext in image_extensions:\n",
        "        image_files.extend(glob.glob(os.path.join(images_dir, ext)))\n",
        "        image_files.extend(glob.glob(os.path.join(images_dir, ext.upper())))\n",
        "\n",
        "    files_to_keep = []\n",
        "    files_to_delete = []\n",
        "\n",
        "    for image_file in image_files:\n",
        "        basename = os.path.splitext(os.path.basename(image_file))[0]\n",
        "\n",
        "        if basename in label_basenames:\n",
        "            files_to_keep.append(image_file)\n",
        "        else:\n",
        "            files_to_delete.append(image_file)\n",
        "\n",
        "    if files_to_delete:\n",
        "        for file in files_to_delete:\n",
        "            try:\n",
        "                os.remove(file)\n",
        "            except OSError as e:\n",
        "                print(f\"删除失败: {os.path.basename(file)} - {e}\")\n",
        "\n",
        "    print(\"image与label文件名匹配完成！\")\n",
        "\n",
        "custom_data_directory = \"custom_data\"\n",
        "data_directory = os.path.join(custom_data_directory, \"data\")\n",
        "images_directory = os.path.join(data_directory, \"images\")\n",
        "labels_directory = os.path.join(data_directory, \"labels\")\n",
        "\n",
        "if os.path.exists(images_directory) and os.path.exists(labels_directory):\n",
        "    filter_images_by_labels(images_directory, labels_directory)\n",
        "else:\n",
        "    print(\"错误：图片目录或标签目录不存在\")\n",
        "    print(f\"图片目录存在: {os.path.exists(images_directory)}\")\n",
        "    print(f\"标签目录存在: {os.path.exists(labels_directory)}\")"
      ],
      "metadata": {
        "colab": {
          "base_uri": "https://localhost:8080/"
        },
        "id": "JU6kvVNi9QfC",
        "outputId": "f7019d00-abd4-4d4f-804d-9c5d292c872b"
      },
      "execution_count": null,
      "outputs": [
        {
          "output_type": "stream",
          "name": "stdout",
          "text": [
            "image与label文件名匹配完成！\n"
          ]
        }
      ]
    },
    {
      "cell_type": "markdown",
      "source": [
        "运行以下代码，将在根目录下生成一个data文件夹，内部自动按照8:1:1的比例分配train, test, val为可训练格式。"
      ],
      "metadata": {
        "id": "OePHDA-x2Ro1"
      }
    },
    {
      "cell_type": "markdown",
      "source": [
        "data文件夹结构如下："
      ],
      "metadata": {
        "id": "oPYtgW-CHRTy"
      }
    },
    {
      "cell_type": "markdown",
      "source": [
        "```\n",
        "/content/data/\n",
        "├── images/\n",
        "│   ├── train/\n",
        "│   │   ├── 图片1.jpg\n",
        "│   │   ├── 图片2.jpg\n",
        "│   │   └── ... (80%的图片)\n",
        "│   ├── test/\n",
        "│   │   ├── 图片3.jpg\n",
        "│   │   └── ... (10%的图片)\n",
        "│   └── val/\n",
        "│       ├── 图片4.jpg\n",
        "│       └── ... (10%的图片)\n",
        "└── labels/\n",
        "    ├── train/\n",
        "    │   ├── 图片1.txt\n",
        "    │   ├── 图片2.txt\n",
        "    │   └── ... (80%的标签)\n",
        "    ├── test/\n",
        "    │   ├── 图片3.txt\n",
        "    │   └── ... (10%的标签)\n",
        "    └── val/\n",
        "        ├── 图片4.txt\n",
        "        └── ... (10%的标签)\n",
        "```"
      ],
      "metadata": {
        "id": "gjocpUg4HTB7"
      }
    },
    {
      "cell_type": "code",
      "source": [
        "import os\n",
        "import shutil\n",
        "import random\n",
        "from pathlib import Path\n",
        "\n",
        "source_images_dir = \"/content/custom_data/data/images\"\n",
        "source_labels_dir = \"/content/custom_data/data/labels\"\n",
        "output_dir = \"/content/data\"\n",
        "\n",
        "if not os.path.exists(source_images_dir):\n",
        "    print(f\"错误：图片目录不存在 - {source_images_dir}\")\n",
        "    exit()\n",
        "\n",
        "if not os.path.exists(source_labels_dir):\n",
        "    print(f\"错误：标签目录不存在 - {source_labels_dir}\")\n",
        "    exit()\n",
        "\n",
        "image_extensions = ['*.jpg', '*.jpeg', '*.png', '*.bmp', '*.gif', '*.tiff']\n",
        "image_files = []\n",
        "\n",
        "for ext in image_extensions:\n",
        "    image_files.extend(Path(source_images_dir).glob(ext))\n",
        "    image_files.extend(Path(source_images_dir).glob(ext.upper()))\n",
        "\n",
        "label_files = list(Path(source_labels_dir).glob(\"*.txt\"))\n",
        "\n",
        "image_label_pairs = []\n",
        "\n",
        "for image_file in image_files:\n",
        "    image_name = image_file.stem\n",
        "    label_file = Path(source_labels_dir) / f\"{image_name}.txt\"\n",
        "\n",
        "    if label_file.exists():\n",
        "        image_label_pairs.append((image_file, label_file))\n",
        "\n",
        "if len(image_label_pairs) == 0:\n",
        "    print(\"没有找到匹配的图片和标签文件\")\n",
        "    exit()\n",
        "\n",
        "random.seed(42)\n",
        "random.shuffle(image_label_pairs)\n",
        "\n",
        "total_count = len(image_label_pairs)\n",
        "train_count = int(total_count * 0.8)\n",
        "test_count = int(total_count * 0.1)\n",
        "val_count = total_count - train_count - test_count\n",
        "\n",
        "train_pairs = image_label_pairs[:train_count]\n",
        "test_pairs = image_label_pairs[train_count:train_count + test_count]\n",
        "val_pairs = image_label_pairs[train_count + test_count:]\n",
        "\n",
        "# 创建COCO8格式的目录结构\n",
        "output_images_dir = Path(output_dir) / \"images\"\n",
        "output_labels_dir = Path(output_dir) / \"labels\"\n",
        "\n",
        "# 创建train目录\n",
        "train_images_dir = output_images_dir / \"train\"\n",
        "train_labels_dir = output_labels_dir / \"train\"\n",
        "train_images_dir.mkdir(parents=True, exist_ok=True)\n",
        "train_labels_dir.mkdir(parents=True, exist_ok=True)\n",
        "\n",
        "for image_file, label_file in train_pairs:\n",
        "    shutil.copy2(image_file, train_images_dir / image_file.name)\n",
        "    shutil.copy2(label_file, train_labels_dir / label_file.name)\n",
        "\n",
        "# 创建test目录\n",
        "test_images_dir = output_images_dir / \"test\"\n",
        "test_labels_dir = output_labels_dir / \"test\"\n",
        "test_images_dir.mkdir(parents=True, exist_ok=True)\n",
        "test_labels_dir.mkdir(parents=True, exist_ok=True)\n",
        "\n",
        "for image_file, label_file in test_pairs:\n",
        "    shutil.copy2(image_file, test_images_dir / image_file.name)\n",
        "    shutil.copy2(label_file, test_labels_dir / label_file.name)\n",
        "\n",
        "# 创建val目录\n",
        "val_images_dir = output_images_dir / \"val\"\n",
        "val_labels_dir = output_labels_dir / \"val\"\n",
        "val_images_dir.mkdir(parents=True, exist_ok=True)\n",
        "val_labels_dir.mkdir(parents=True, exist_ok=True)\n",
        "\n",
        "for image_file, label_file in val_pairs:\n",
        "    shutil.copy2(image_file, val_images_dir / image_file.name)\n",
        "    shutil.copy2(label_file, val_labels_dir / label_file.name)\n",
        "\n",
        "print(\"数据集分割完成！\")"
      ],
      "metadata": {
        "id": "ajfU9JAh7vBb",
        "colab": {
          "base_uri": "https://localhost:8080/"
        },
        "outputId": "39c971d3-2e21-4ba6-bcf7-bcc7674a6f28"
      },
      "execution_count": null,
      "outputs": [
        {
          "output_type": "stream",
          "name": "stdout",
          "text": [
            "数据集分割完成！\n"
          ]
        }
      ]
    },
    {
      "cell_type": "markdown",
      "source": [
        "# **4、准备.yaml文件**"
      ],
      "metadata": {
        "id": "QK3IJH7a_MPP"
      }
    },
    {
      "cell_type": "markdown",
      "source": [
        "运行以下代码生成训练所需要的.yaml文件，同样放在根目录下。"
      ],
      "metadata": {
        "id": "43wJx_TxIyux"
      }
    },
    {
      "cell_type": "code",
      "source": [
        "import yaml\n",
        "import os\n",
        "\n",
        "dataset_path = \"/content/data\"\n",
        "classes_file = \"/content/custom_data/data/labels/classes.txt\"\n",
        "output_yaml = \"/content/data.yaml\"\n",
        "\n",
        "if not os.path.exists(classes_file):\n",
        "    print(f\"错误：classes.txt文件不存在 - {classes_file}\")\n",
        "    print(\"请确保classes.txt文件存在并包含类别名称\")\n",
        "    exit()\n",
        "\n",
        "classes = []\n",
        "with open(classes_file, 'r', encoding='utf-8') as f:\n",
        "    for line in f.readlines():\n",
        "        if len(line.strip()) == 0:\n",
        "            continue\n",
        "        classes.append(line.strip())\n",
        "\n",
        "number_of_classes = len(classes)\n",
        "\n",
        "config = {\n",
        "    'path': dataset_path,\n",
        "    'train': 'images/train',\n",
        "    'val': 'images/val',\n",
        "    'test': 'images/test',\n",
        "    'nc': number_of_classes,\n",
        "    'names': classes\n",
        "}\n",
        "\n",
        "with open(output_yaml, 'w', encoding='utf-8') as f:\n",
        "    yaml.dump(config, f, sort_keys=False)\n",
        "\n",
        "print(f\"YAML配置文件已创建: {output_yaml}\")\n",
        "\n",
        "print('\\n文件内容:\\n')\n",
        "print(open(output_yaml).read())"
      ],
      "metadata": {
        "colab": {
          "base_uri": "https://localhost:8080/"
        },
        "id": "G3fzmNIOFEKR",
        "outputId": "3fd54ebc-b137-4e6e-a6fa-8eb1c76775be"
      },
      "execution_count": null,
      "outputs": [
        {
          "output_type": "stream",
          "name": "stdout",
          "text": [
            "YAML配置文件已创建: /content/data.yaml\n",
            "\n",
            "文件内容:\n",
            "\n",
            "path: /content/data\n",
            "train: images/train\n",
            "val: images/val\n",
            "test: images/test\n",
            "nc: 2\n",
            "names:\n",
            "- drink\n",
            "- food\n",
            "\n"
          ]
        }
      ]
    },
    {
      "cell_type": "markdown",
      "source": [
        "到此已经准备好完整的训练数据集。"
      ],
      "metadata": {
        "id": "ca1cfe0cJbv0"
      }
    },
    {
      "cell_type": "markdown",
      "source": [
        "```\n",
        "/content/\n",
        "├── data/\n",
        "│   ├── images/\n",
        "│   │   ├── train/\n",
        "│   │   │   ├── 微信图片_20250731155238_291.jpg\n",
        "│   │   │   ├── 微信图片_20250731155238_292.jpg\n",
        "│   │   │   ├── 微信图片_20250731155238_293.jpg\n",
        "│   │   │   └── 微信图片_20250731155238_294.jpg\n",
        "│   │   ├── test/\n",
        "│   │   │   └── 微信图片_20250731155238_295.jpg\n",
        "│   │   └── val/\n",
        "│   │       └── 微信图片_20250731155238_296.jpg\n",
        "│   └── labels/\n",
        "│       ├── train/\n",
        "│       │   ├── 微信图片_20250731155238_291.txt\n",
        "│       │   ├── 微信图片_20250731155238_292.txt\n",
        "│       │   ├── 微信图片_20250731155238_293.txt\n",
        "│       │   └── 微信图片_20250731155238_294.txt\n",
        "│       ├── test/\n",
        "│       │   └── 微信图片_20250731155238_295.txt\n",
        "│       └── val/\n",
        "│           └── 微信图片_20250731155238_296.txt\n",
        "└── data.yaml\n",
        "```"
      ],
      "metadata": {
        "id": "rptSrXY9I6Zq"
      }
    },
    {
      "cell_type": "markdown",
      "source": [
        "# **5、准备训练环境**"
      ],
      "metadata": {
        "id": "yiCUsyyK_GsD"
      }
    },
    {
      "cell_type": "code",
      "source": [
        "!pip install ultralytics"
      ],
      "metadata": {
        "colab": {
          "base_uri": "https://localhost:8080/"
        },
        "id": "ltF3P-liEnLk",
        "outputId": "b8d7ea40-7199-4865-f9bb-616c9372f879"
      },
      "execution_count": null,
      "outputs": [
        {
          "output_type": "stream",
          "name": "stdout",
          "text": [
            "Collecting ultralytics\n",
            "  Downloading ultralytics-8.3.190-py3-none-any.whl.metadata (37 kB)\n",
            "Requirement already satisfied: numpy>=1.23.0 in /usr/local/lib/python3.12/dist-packages (from ultralytics) (2.0.2)\n",
            "Requirement already satisfied: matplotlib>=3.3.0 in /usr/local/lib/python3.12/dist-packages (from ultralytics) (3.10.0)\n",
            "Requirement already satisfied: opencv-python>=4.6.0 in /usr/local/lib/python3.12/dist-packages (from ultralytics) (4.12.0.88)\n",
            "Requirement already satisfied: pillow>=7.1.2 in /usr/local/lib/python3.12/dist-packages (from ultralytics) (11.3.0)\n",
            "Requirement already satisfied: pyyaml>=5.3.1 in /usr/local/lib/python3.12/dist-packages (from ultralytics) (6.0.2)\n",
            "Requirement already satisfied: requests>=2.23.0 in /usr/local/lib/python3.12/dist-packages (from ultralytics) (2.32.4)\n",
            "Requirement already satisfied: scipy>=1.4.1 in /usr/local/lib/python3.12/dist-packages (from ultralytics) (1.16.1)\n",
            "Requirement already satisfied: torch>=1.8.0 in /usr/local/lib/python3.12/dist-packages (from ultralytics) (2.8.0+cu126)\n",
            "Requirement already satisfied: torchvision>=0.9.0 in /usr/local/lib/python3.12/dist-packages (from ultralytics) (0.23.0+cu126)\n",
            "Requirement already satisfied: psutil in /usr/local/lib/python3.12/dist-packages (from ultralytics) (5.9.5)\n",
            "Requirement already satisfied: py-cpuinfo in /usr/local/lib/python3.12/dist-packages (from ultralytics) (9.0.0)\n",
            "Requirement already satisfied: polars in /usr/local/lib/python3.12/dist-packages (from ultralytics) (1.25.2)\n",
            "Collecting ultralytics-thop>=2.0.0 (from ultralytics)\n",
            "  Downloading ultralytics_thop-2.0.16-py3-none-any.whl.metadata (14 kB)\n",
            "Requirement already satisfied: contourpy>=1.0.1 in /usr/local/lib/python3.12/dist-packages (from matplotlib>=3.3.0->ultralytics) (1.3.3)\n",
            "Requirement already satisfied: cycler>=0.10 in /usr/local/lib/python3.12/dist-packages (from matplotlib>=3.3.0->ultralytics) (0.12.1)\n",
            "Requirement already satisfied: fonttools>=4.22.0 in /usr/local/lib/python3.12/dist-packages (from matplotlib>=3.3.0->ultralytics) (4.59.1)\n",
            "Requirement already satisfied: kiwisolver>=1.3.1 in /usr/local/lib/python3.12/dist-packages (from matplotlib>=3.3.0->ultralytics) (1.4.9)\n",
            "Requirement already satisfied: packaging>=20.0 in /usr/local/lib/python3.12/dist-packages (from matplotlib>=3.3.0->ultralytics) (25.0)\n",
            "Requirement already satisfied: pyparsing>=2.3.1 in /usr/local/lib/python3.12/dist-packages (from matplotlib>=3.3.0->ultralytics) (3.2.3)\n",
            "Requirement already satisfied: python-dateutil>=2.7 in /usr/local/lib/python3.12/dist-packages (from matplotlib>=3.3.0->ultralytics) (2.9.0.post0)\n",
            "Requirement already satisfied: charset_normalizer<4,>=2 in /usr/local/lib/python3.12/dist-packages (from requests>=2.23.0->ultralytics) (3.4.3)\n",
            "Requirement already satisfied: idna<4,>=2.5 in /usr/local/lib/python3.12/dist-packages (from requests>=2.23.0->ultralytics) (3.10)\n",
            "Requirement already satisfied: urllib3<3,>=1.21.1 in /usr/local/lib/python3.12/dist-packages (from requests>=2.23.0->ultralytics) (2.5.0)\n",
            "Requirement already satisfied: certifi>=2017.4.17 in /usr/local/lib/python3.12/dist-packages (from requests>=2.23.0->ultralytics) (2025.8.3)\n",
            "Requirement already satisfied: filelock in /usr/local/lib/python3.12/dist-packages (from torch>=1.8.0->ultralytics) (3.19.1)\n",
            "Requirement already satisfied: typing-extensions>=4.10.0 in /usr/local/lib/python3.12/dist-packages (from torch>=1.8.0->ultralytics) (4.15.0)\n",
            "Requirement already satisfied: setuptools in /usr/local/lib/python3.12/dist-packages (from torch>=1.8.0->ultralytics) (75.2.0)\n",
            "Requirement already satisfied: sympy>=1.13.3 in /usr/local/lib/python3.12/dist-packages (from torch>=1.8.0->ultralytics) (1.13.3)\n",
            "Requirement already satisfied: networkx in /usr/local/lib/python3.12/dist-packages (from torch>=1.8.0->ultralytics) (3.5)\n",
            "Requirement already satisfied: jinja2 in /usr/local/lib/python3.12/dist-packages (from torch>=1.8.0->ultralytics) (3.1.6)\n",
            "Requirement already satisfied: fsspec in /usr/local/lib/python3.12/dist-packages (from torch>=1.8.0->ultralytics) (2025.3.0)\n",
            "Requirement already satisfied: nvidia-cuda-nvrtc-cu12==12.6.77 in /usr/local/lib/python3.12/dist-packages (from torch>=1.8.0->ultralytics) (12.6.77)\n",
            "Requirement already satisfied: nvidia-cuda-runtime-cu12==12.6.77 in /usr/local/lib/python3.12/dist-packages (from torch>=1.8.0->ultralytics) (12.6.77)\n",
            "Requirement already satisfied: nvidia-cuda-cupti-cu12==12.6.80 in /usr/local/lib/python3.12/dist-packages (from torch>=1.8.0->ultralytics) (12.6.80)\n",
            "Requirement already satisfied: nvidia-cudnn-cu12==9.10.2.21 in /usr/local/lib/python3.12/dist-packages (from torch>=1.8.0->ultralytics) (9.10.2.21)\n",
            "Requirement already satisfied: nvidia-cublas-cu12==12.6.4.1 in /usr/local/lib/python3.12/dist-packages (from torch>=1.8.0->ultralytics) (12.6.4.1)\n",
            "Requirement already satisfied: nvidia-cufft-cu12==11.3.0.4 in /usr/local/lib/python3.12/dist-packages (from torch>=1.8.0->ultralytics) (11.3.0.4)\n",
            "Requirement already satisfied: nvidia-curand-cu12==10.3.7.77 in /usr/local/lib/python3.12/dist-packages (from torch>=1.8.0->ultralytics) (10.3.7.77)\n",
            "Requirement already satisfied: nvidia-cusolver-cu12==11.7.1.2 in /usr/local/lib/python3.12/dist-packages (from torch>=1.8.0->ultralytics) (11.7.1.2)\n",
            "Requirement already satisfied: nvidia-cusparse-cu12==12.5.4.2 in /usr/local/lib/python3.12/dist-packages (from torch>=1.8.0->ultralytics) (12.5.4.2)\n",
            "Requirement already satisfied: nvidia-cusparselt-cu12==0.7.1 in /usr/local/lib/python3.12/dist-packages (from torch>=1.8.0->ultralytics) (0.7.1)\n",
            "Requirement already satisfied: nvidia-nccl-cu12==2.27.3 in /usr/local/lib/python3.12/dist-packages (from torch>=1.8.0->ultralytics) (2.27.3)\n",
            "Requirement already satisfied: nvidia-nvtx-cu12==12.6.77 in /usr/local/lib/python3.12/dist-packages (from torch>=1.8.0->ultralytics) (12.6.77)\n",
            "Requirement already satisfied: nvidia-nvjitlink-cu12==12.6.85 in /usr/local/lib/python3.12/dist-packages (from torch>=1.8.0->ultralytics) (12.6.85)\n",
            "Requirement already satisfied: nvidia-cufile-cu12==1.11.1.6 in /usr/local/lib/python3.12/dist-packages (from torch>=1.8.0->ultralytics) (1.11.1.6)\n",
            "Requirement already satisfied: triton==3.4.0 in /usr/local/lib/python3.12/dist-packages (from torch>=1.8.0->ultralytics) (3.4.0)\n",
            "Requirement already satisfied: six>=1.5 in /usr/local/lib/python3.12/dist-packages (from python-dateutil>=2.7->matplotlib>=3.3.0->ultralytics) (1.17.0)\n",
            "Requirement already satisfied: mpmath<1.4,>=1.1.0 in /usr/local/lib/python3.12/dist-packages (from sympy>=1.13.3->torch>=1.8.0->ultralytics) (1.3.0)\n",
            "Requirement already satisfied: MarkupSafe>=2.0 in /usr/local/lib/python3.12/dist-packages (from jinja2->torch>=1.8.0->ultralytics) (3.0.2)\n",
            "Downloading ultralytics-8.3.190-py3-none-any.whl (1.1 MB)\n",
            "\u001b[2K   \u001b[90m━━━━━━━━━━━━━━━━━━━━━━━━━━━━━━━━━━━━━━━━\u001b[0m \u001b[32m1.1/1.1 MB\u001b[0m \u001b[31m68.6 MB/s\u001b[0m eta \u001b[36m0:00:00\u001b[0m\n",
            "\u001b[?25hDownloading ultralytics_thop-2.0.16-py3-none-any.whl (28 kB)\n",
            "Installing collected packages: ultralytics-thop, ultralytics\n",
            "Successfully installed ultralytics-8.3.190 ultralytics-thop-2.0.16\n"
          ]
        }
      ]
    },
    {
      "cell_type": "markdown",
      "source": [
        "# **6、开始训练**"
      ],
      "metadata": {
        "id": "WBXw-t2T_Pmr"
      }
    },
    {
      "cell_type": "markdown",
      "source": [
        "运行以下代码开始训练。其中代码意义如下，可自定义修改。"
      ],
      "metadata": {
        "id": "-h9eGHfeLays"
      }
    },
    {
      "cell_type": "markdown",
      "source": [
        "```\n",
        "model=yolov8n.pt：指定预训练模型\n",
        "epochs=10：训练轮数\n",
        "imgsz=640：输入图片尺寸\n",
        "```"
      ],
      "metadata": {
        "id": "J5YPUw8jLr6y"
      }
    },
    {
      "cell_type": "code",
      "source": [
        "!yolo detect train data=/content/data.yaml model=yolov8n.pt epochs=10 imgsz=640"
      ],
      "metadata": {
        "colab": {
          "base_uri": "https://localhost:8080/"
        },
        "id": "WdC1PxF2LQrP",
        "outputId": "04fca7d6-ac6c-46cd-9580-eddc1b9f0fca"
      },
      "execution_count": null,
      "outputs": [
        {
          "output_type": "stream",
          "name": "stdout",
          "text": [
            "Creating new Ultralytics Settings v0.0.6 file ✅ \n",
            "View Ultralytics Settings with 'yolo settings' or at '/root/.config/Ultralytics/settings.json'\n",
            "Update Settings with 'yolo settings key=value', i.e. 'yolo settings runs_dir=path/to/dir'. For help see https://docs.ultralytics.com/quickstart/#ultralytics-settings.\n",
            "\u001b[KDownloading https://github.com/ultralytics/assets/releases/download/v8.3.0/yolov8n.pt to 'yolov8n.pt': 100% ━━━━━━━━━━━━ 6.2/6.2MB 261.7MB/s 0.0s\n",
            "Ultralytics 8.3.190 🚀 Python-3.12.11 torch-2.8.0+cu126 CUDA:0 (Tesla T4, 15095MiB)\n",
            "\u001b[34m\u001b[1mengine/trainer: \u001b[0magnostic_nms=False, amp=True, augment=False, auto_augment=randaugment, batch=16, bgr=0.0, box=7.5, cache=False, cfg=None, classes=None, close_mosaic=10, cls=0.5, conf=None, copy_paste=0.0, copy_paste_mode=flip, cos_lr=False, cutmix=0.0, data=/content/data.yaml, degrees=0.0, deterministic=True, device=None, dfl=1.5, dnn=False, dropout=0.0, dynamic=False, embed=None, epochs=10, erasing=0.4, exist_ok=False, fliplr=0.5, flipud=0.0, format=torchscript, fraction=1.0, freeze=None, half=False, hsv_h=0.015, hsv_s=0.7, hsv_v=0.4, imgsz=640, int8=False, iou=0.7, keras=False, kobj=1.0, line_width=None, lr0=0.01, lrf=0.01, mask_ratio=4, max_det=300, mixup=0.0, mode=train, model=yolov8n.pt, momentum=0.937, mosaic=1.0, multi_scale=False, name=train, nbs=64, nms=False, opset=None, optimize=False, optimizer=auto, overlap_mask=True, patience=100, perspective=0.0, plots=True, pose=12.0, pretrained=True, profile=False, project=None, rect=False, resume=False, retina_masks=False, save=True, save_conf=False, save_crop=False, save_dir=runs/detect/train, save_frames=False, save_json=False, save_period=-1, save_txt=False, scale=0.5, seed=0, shear=0.0, show=False, show_boxes=True, show_conf=True, show_labels=True, simplify=True, single_cls=False, source=None, split=val, stream_buffer=False, task=detect, time=None, tracker=botsort.yaml, translate=0.1, val=True, verbose=True, vid_stride=1, visualize=False, warmup_bias_lr=0.1, warmup_epochs=3.0, warmup_momentum=0.8, weight_decay=0.0005, workers=8, workspace=None\n",
            "\u001b[KDownloading https://ultralytics.com/assets/Arial.ttf to '/root/.config/Ultralytics/Arial.ttf': 100% ━━━━━━━━━━━━ 755.1/755.1KB 79.7MB/s 0.0s\n",
            "Overriding model.yaml nc=80 with nc=2\n",
            "\n",
            "                   from  n    params  module                                       arguments                     \n",
            "  0                  -1  1       464  ultralytics.nn.modules.conv.Conv             [3, 16, 3, 2]                 \n",
            "  1                  -1  1      4672  ultralytics.nn.modules.conv.Conv             [16, 32, 3, 2]                \n",
            "  2                  -1  1      7360  ultralytics.nn.modules.block.C2f             [32, 32, 1, True]             \n",
            "  3                  -1  1     18560  ultralytics.nn.modules.conv.Conv             [32, 64, 3, 2]                \n",
            "  4                  -1  2     49664  ultralytics.nn.modules.block.C2f             [64, 64, 2, True]             \n",
            "  5                  -1  1     73984  ultralytics.nn.modules.conv.Conv             [64, 128, 3, 2]               \n",
            "  6                  -1  2    197632  ultralytics.nn.modules.block.C2f             [128, 128, 2, True]           \n",
            "  7                  -1  1    295424  ultralytics.nn.modules.conv.Conv             [128, 256, 3, 2]              \n",
            "  8                  -1  1    460288  ultralytics.nn.modules.block.C2f             [256, 256, 1, True]           \n",
            "  9                  -1  1    164608  ultralytics.nn.modules.block.SPPF            [256, 256, 5]                 \n",
            " 10                  -1  1         0  torch.nn.modules.upsampling.Upsample         [None, 2, 'nearest']          \n",
            " 11             [-1, 6]  1         0  ultralytics.nn.modules.conv.Concat           [1]                           \n",
            " 12                  -1  1    148224  ultralytics.nn.modules.block.C2f             [384, 128, 1]                 \n",
            " 13                  -1  1         0  torch.nn.modules.upsampling.Upsample         [None, 2, 'nearest']          \n",
            " 14             [-1, 4]  1         0  ultralytics.nn.modules.conv.Concat           [1]                           \n",
            " 15                  -1  1     37248  ultralytics.nn.modules.block.C2f             [192, 64, 1]                  \n",
            " 16                  -1  1     36992  ultralytics.nn.modules.conv.Conv             [64, 64, 3, 2]                \n",
            " 17            [-1, 12]  1         0  ultralytics.nn.modules.conv.Concat           [1]                           \n",
            " 18                  -1  1    123648  ultralytics.nn.modules.block.C2f             [192, 128, 1]                 \n",
            " 19                  -1  1    147712  ultralytics.nn.modules.conv.Conv             [128, 128, 3, 2]              \n",
            " 20             [-1, 9]  1         0  ultralytics.nn.modules.conv.Concat           [1]                           \n",
            " 21                  -1  1    493056  ultralytics.nn.modules.block.C2f             [384, 256, 1]                 \n",
            " 22        [15, 18, 21]  1    751702  ultralytics.nn.modules.head.Detect           [2, [64, 128, 256]]           \n",
            "Model summary: 129 layers, 3,011,238 parameters, 3,011,222 gradients, 8.2 GFLOPs\n",
            "\n",
            "Transferred 319/355 items from pretrained weights\n",
            "Freezing layer 'model.22.dfl.conv.weight'\n",
            "\u001b[34m\u001b[1mAMP: \u001b[0mrunning Automatic Mixed Precision (AMP) checks...\n",
            "\u001b[KDownloading https://github.com/ultralytics/assets/releases/download/v8.3.0/yolo11n.pt to 'yolo11n.pt': 100% ━━━━━━━━━━━━ 5.4/5.4MB 326.2MB/s 0.0s\n",
            "\u001b[34m\u001b[1mAMP: \u001b[0mchecks passed ✅\n",
            "\u001b[34m\u001b[1mtrain: \u001b[0mFast image access ✅ (ping: 0.0±0.0 ms, read: 1813.8±590.6 MB/s, size: 201.7 KB)\n",
            "\u001b[K\u001b[34m\u001b[1mtrain: \u001b[0mScanning /content/data/labels/train... 74 images, 0 backgrounds, 0 corrupt: 100% ━━━━━━━━━━━━ 74/74 23.9it/s 3.1s\n",
            "\u001b[34m\u001b[1mtrain: \u001b[0m/content/data/images/train/微信图片_20250731121456_219.jpg: corrupt JPEG restored and saved\n",
            "\u001b[34m\u001b[1mtrain: \u001b[0m/content/data/images/train/微信图片_20250731121456_220.jpg: corrupt JPEG restored and saved\n",
            "\u001b[34m\u001b[1mtrain: \u001b[0m/content/data/images/train/微信图片_20250731121456_221.jpg: corrupt JPEG restored and saved\n",
            "\u001b[34m\u001b[1mtrain: \u001b[0m/content/data/images/train/微信图片_20250731121456_223.jpg: corrupt JPEG restored and saved\n",
            "\u001b[34m\u001b[1mtrain: \u001b[0m/content/data/images/train/微信图片_20250731121456_225.jpg: corrupt JPEG restored and saved\n",
            "\u001b[34m\u001b[1mtrain: \u001b[0m/content/data/images/train/微信图片_20250731121456_226.jpg: corrupt JPEG restored and saved\n",
            "\u001b[34m\u001b[1mtrain: \u001b[0m/content/data/images/train/微信图片_20250731121456_227.jpg: corrupt JPEG restored and saved\n",
            "\u001b[34m\u001b[1mtrain: \u001b[0m/content/data/images/train/微信图片_20250731121456_230.jpg: corrupt JPEG restored and saved\n",
            "\u001b[34m\u001b[1mtrain: \u001b[0m/content/data/images/train/微信图片_20250731121456_232.jpg: corrupt JPEG restored and saved\n",
            "\u001b[34m\u001b[1mtrain: \u001b[0m/content/data/images/train/微信图片_20250731121456_233.jpg: corrupt JPEG restored and saved\n",
            "\u001b[34m\u001b[1mtrain: \u001b[0m/content/data/images/train/微信图片_20250731121456_234.jpg: corrupt JPEG restored and saved\n",
            "\u001b[34m\u001b[1mtrain: \u001b[0m/content/data/images/train/微信图片_20250731121846_201.jpg: corrupt JPEG restored and saved\n",
            "\u001b[34m\u001b[1mtrain: \u001b[0m/content/data/images/train/微信图片_20250731121846_202.jpg: corrupt JPEG restored and saved\n",
            "\u001b[34m\u001b[1mtrain: \u001b[0m/content/data/images/train/微信图片_20250731121846_203.jpg: corrupt JPEG restored and saved\n",
            "\u001b[34m\u001b[1mtrain: \u001b[0m/content/data/images/train/微信图片_20250731121846_205.jpg: corrupt JPEG restored and saved\n",
            "\u001b[34m\u001b[1mtrain: \u001b[0m/content/data/images/train/微信图片_20250731121846_207.jpg: corrupt JPEG restored and saved\n",
            "\u001b[34m\u001b[1mtrain: \u001b[0m/content/data/images/train/微信图片_20250731121847_176.jpg: corrupt JPEG restored and saved\n",
            "\u001b[34m\u001b[1mtrain: \u001b[0m/content/data/images/train/微信图片_20250731121847_177.jpg: corrupt JPEG restored and saved\n",
            "\u001b[34m\u001b[1mtrain: \u001b[0m/content/data/images/train/微信图片_20250731121847_180.jpg: corrupt JPEG restored and saved\n",
            "\u001b[34m\u001b[1mtrain: \u001b[0m/content/data/images/train/微信图片_20250731121847_183.jpg: corrupt JPEG restored and saved\n",
            "\u001b[34m\u001b[1mtrain: \u001b[0m/content/data/images/train/微信图片_20250731121847_186.jpg: corrupt JPEG restored and saved\n",
            "\u001b[34m\u001b[1mtrain: \u001b[0m/content/data/images/train/微信图片_20250731121847_187.jpg: corrupt JPEG restored and saved\n",
            "\u001b[34m\u001b[1mtrain: \u001b[0m/content/data/images/train/微信图片_20250731121847_189.jpg: corrupt JPEG restored and saved\n",
            "\u001b[34m\u001b[1mtrain: \u001b[0m/content/data/images/train/微信图片_20250731121847_191.jpg: corrupt JPEG restored and saved\n",
            "\u001b[34m\u001b[1mtrain: \u001b[0m/content/data/images/train/微信图片_20250731121847_194.jpg: corrupt JPEG restored and saved\n",
            "\u001b[34m\u001b[1mtrain: \u001b[0m/content/data/images/train/微信图片_20250731121847_195.jpg: corrupt JPEG restored and saved\n",
            "\u001b[34m\u001b[1mtrain: \u001b[0m/content/data/images/train/微信图片_20250731121847_196.jpg: corrupt JPEG restored and saved\n",
            "\u001b[34m\u001b[1mtrain: \u001b[0m/content/data/images/train/微信图片_20250731121847_198.jpg: corrupt JPEG restored and saved\n",
            "\u001b[34m\u001b[1mtrain: \u001b[0m/content/data/images/train/微信图片_20250731121847_199.jpg: corrupt JPEG restored and saved\n",
            "\u001b[34m\u001b[1mtrain: \u001b[0m/content/data/images/train/微信图片_20250731121847_206.jpg: corrupt JPEG restored and saved\n",
            "\u001b[34m\u001b[1mtrain: \u001b[0m/content/data/images/train/微信图片_20250731121848_128.jpg: corrupt JPEG restored and saved\n",
            "\u001b[34m\u001b[1mtrain: \u001b[0m/content/data/images/train/微信图片_20250731121848_161.jpg: corrupt JPEG restored and saved\n",
            "\u001b[34m\u001b[1mtrain: \u001b[0m/content/data/images/train/微信图片_20250731121848_162.jpg: corrupt JPEG restored and saved\n",
            "\u001b[34m\u001b[1mtrain: \u001b[0m/content/data/images/train/微信图片_20250731121848_163.jpg: corrupt JPEG restored and saved\n",
            "\u001b[34m\u001b[1mtrain: \u001b[0m/content/data/images/train/微信图片_20250731121848_164.jpg: corrupt JPEG restored and saved\n",
            "\u001b[34m\u001b[1mtrain: \u001b[0m/content/data/images/train/微信图片_20250731121848_165.jpg: corrupt JPEG restored and saved\n",
            "\u001b[34m\u001b[1mtrain: \u001b[0m/content/data/images/train/微信图片_20250731121848_168.jpg: corrupt JPEG restored and saved\n",
            "\u001b[34m\u001b[1mtrain: \u001b[0m/content/data/images/train/微信图片_20250731121848_169.jpg: corrupt JPEG restored and saved\n",
            "\u001b[34m\u001b[1mtrain: \u001b[0m/content/data/images/train/微信图片_20250731131321_283.jpg: corrupt JPEG restored and saved\n",
            "\u001b[34m\u001b[1mtrain: \u001b[0m/content/data/images/train/微信图片_20250808163756_407.jpg: corrupt JPEG restored and saved\n",
            "\u001b[34m\u001b[1mtrain: \u001b[0m/content/data/images/train/微信图片_20250808163756_412.jpg: corrupt JPEG restored and saved\n",
            "\u001b[34m\u001b[1mtrain: \u001b[0m/content/data/images/train/微信图片_20250808163756_413.jpg: corrupt JPEG restored and saved\n",
            "\u001b[34m\u001b[1mtrain: \u001b[0m/content/data/images/train/微信图片_20250808163756_414.jpg: corrupt JPEG restored and saved\n",
            "\u001b[34m\u001b[1mtrain: \u001b[0m/content/data/images/train/微信图片_20250808163756_415.jpg: corrupt JPEG restored and saved\n",
            "\u001b[34m\u001b[1mtrain: \u001b[0m/content/data/images/train/微信图片_20250808163756_416.jpg: corrupt JPEG restored and saved\n",
            "\u001b[34m\u001b[1mtrain: \u001b[0m/content/data/images/train/微信图片_20250808163756_417.jpg: corrupt JPEG restored and saved\n",
            "\u001b[34m\u001b[1mtrain: \u001b[0m/content/data/images/train/微信图片_20250808163756_418.jpg: corrupt JPEG restored and saved\n",
            "\u001b[34m\u001b[1mtrain: \u001b[0m/content/data/images/train/微信图片_20250808163756_419.jpg: corrupt JPEG restored and saved\n",
            "\u001b[34m\u001b[1mtrain: \u001b[0m/content/data/images/train/微信图片_20250808163757_401.jpg: corrupt JPEG restored and saved\n",
            "\u001b[34m\u001b[1mtrain: \u001b[0m/content/data/images/train/微信图片_20250808163757_402.jpg: corrupt JPEG restored and saved\n",
            "\u001b[34m\u001b[1mtrain: \u001b[0m/content/data/images/train/微信图片_20250808163757_404.jpg: corrupt JPEG restored and saved\n",
            "\u001b[34m\u001b[1mtrain: \u001b[0m/content/data/images/train/微信图片_20250808163757_405.jpg: corrupt JPEG restored and saved\n",
            "\u001b[34m\u001b[1mtrain: \u001b[0m/content/data/images/train/微信图片_20250825215640_430.jpg: corrupt JPEG restored and saved\n",
            "\u001b[34m\u001b[1mtrain: \u001b[0m/content/data/images/train/微信图片_20250825215640_431.jpg: corrupt JPEG restored and saved\n",
            "\u001b[34m\u001b[1mtrain: \u001b[0m/content/data/images/train/微信图片_20250825215640_432.jpg: corrupt JPEG restored and saved\n",
            "\u001b[34m\u001b[1mtrain: \u001b[0m/content/data/images/train/微信图片_20250825215640_433.jpg: corrupt JPEG restored and saved\n",
            "\u001b[34m\u001b[1mtrain: \u001b[0m/content/data/images/train/微信图片_20250825215640_436.jpg: corrupt JPEG restored and saved\n",
            "\u001b[34m\u001b[1mtrain: \u001b[0m/content/data/images/train/微信图片_20250825215640_437.jpg: corrupt JPEG restored and saved\n",
            "\u001b[34m\u001b[1mtrain: \u001b[0m/content/data/images/train/微信图片_20250825215640_438.jpg: corrupt JPEG restored and saved\n",
            "\u001b[34m\u001b[1mtrain: \u001b[0m/content/data/images/train/微信图片_20250825215640_439.jpg: corrupt JPEG restored and saved\n",
            "\u001b[34m\u001b[1mtrain: \u001b[0m/content/data/images/train/微信图片_20250825215640_440.jpg: corrupt JPEG restored and saved\n",
            "\u001b[34m\u001b[1mtrain: \u001b[0m/content/data/images/train/微信图片_20250825215640_441.jpg: corrupt JPEG restored and saved\n",
            "\u001b[34m\u001b[1mtrain: \u001b[0m/content/data/images/train/微信图片_20250825215640_442.jpg: corrupt JPEG restored and saved\n",
            "\u001b[34m\u001b[1mtrain: \u001b[0m/content/data/images/train/微信图片_20250825215640_443.jpg: corrupt JPEG restored and saved\n",
            "\u001b[34m\u001b[1mtrain: \u001b[0m/content/data/images/train/微信图片_20250825215640_444.jpg: corrupt JPEG restored and saved\n",
            "\u001b[34m\u001b[1mtrain: \u001b[0m/content/data/images/train/微信图片_20250825215640_446.jpg: corrupt JPEG restored and saved\n",
            "\u001b[34m\u001b[1mtrain: \u001b[0m/content/data/images/train/微信图片_20250825215640_447.jpg: corrupt JPEG restored and saved\n",
            "\u001b[34m\u001b[1mtrain: \u001b[0m/content/data/images/train/微信图片_20250825215640_448.jpg: corrupt JPEG restored and saved\n",
            "\u001b[34m\u001b[1mtrain: \u001b[0m/content/data/images/train/微信图片_20250825215640_449.jpg: corrupt JPEG restored and saved\n",
            "\u001b[34m\u001b[1mtrain: \u001b[0m/content/data/images/train/微信图片_20250825215640_450.jpg: corrupt JPEG restored and saved\n",
            "\u001b[34m\u001b[1mtrain: \u001b[0m/content/data/images/train/微信图片_20250825215845_451.jpg: corrupt JPEG restored and saved\n",
            "\u001b[34m\u001b[1mtrain: \u001b[0m/content/data/images/train/微信图片_20250825215845_452.jpg: corrupt JPEG restored and saved\n",
            "\u001b[34m\u001b[1mtrain: \u001b[0m/content/data/images/train/微信图片_20250825215845_453.jpg: corrupt JPEG restored and saved\n",
            "\u001b[34m\u001b[1mtrain: \u001b[0m/content/data/images/train/微信图片_20250825215845_454.jpg: corrupt JPEG restored and saved\n",
            "\u001b[34m\u001b[1mtrain: \u001b[0mNew cache created: /content/data/labels/train.cache\n",
            "\u001b[34m\u001b[1malbumentations: \u001b[0mBlur(p=0.01, blur_limit=(3, 7)), MedianBlur(p=0.01, blur_limit=(3, 7)), ToGray(p=0.01, method='weighted_average', num_output_channels=3), CLAHE(p=0.01, clip_limit=(1.0, 4.0), tile_grid_size=(8, 8))\n",
            "\u001b[34m\u001b[1mval: \u001b[0mFast image access ✅ (ping: 0.0±0.0 ms, read: 1157.7±845.1 MB/s, size: 260.1 KB)\n",
            "\u001b[K\u001b[34m\u001b[1mval: \u001b[0mScanning /content/data/labels/val... 10 images, 1 backgrounds, 0 corrupt: 100% ━━━━━━━━━━━━ 10/10 20.2it/s 0.5s\n",
            "\u001b[34m\u001b[1mval: \u001b[0m/content/data/images/val/微信图片_20250731121846_208.jpg: corrupt JPEG restored and saved\n",
            "\u001b[34m\u001b[1mval: \u001b[0m/content/data/images/val/微信图片_20250731121847_179.jpg: corrupt JPEG restored and saved\n",
            "\u001b[34m\u001b[1mval: \u001b[0m/content/data/images/val/微信图片_20250731121847_188.jpg: corrupt JPEG restored and saved\n",
            "\u001b[34m\u001b[1mval: \u001b[0m/content/data/images/val/微信图片_20250731121847_197.jpg: corrupt JPEG restored and saved\n",
            "\u001b[34m\u001b[1mval: \u001b[0m/content/data/images/val/微信图片_20250731121848_167.jpg: corrupt JPEG restored and saved\n",
            "\u001b[34m\u001b[1mval: \u001b[0m/content/data/images/val/微信图片_20250808163756_411.jpg: corrupt JPEG restored and saved\n",
            "\u001b[34m\u001b[1mval: \u001b[0m/content/data/images/val/微信图片_20250808163757_406.jpg: corrupt JPEG restored and saved\n",
            "\u001b[34m\u001b[1mval: \u001b[0m/content/data/images/val/微信图片_20250825215640_429.jpg: corrupt JPEG restored and saved\n",
            "\u001b[34m\u001b[1mval: \u001b[0m/content/data/images/val/微信图片_20250825215640_434.jpg: corrupt JPEG restored and saved\n",
            "\u001b[34m\u001b[1mval: \u001b[0m/content/data/images/val/微信图片_20250825215640_445.jpg: corrupt JPEG restored and saved\n",
            "\u001b[34m\u001b[1mval: \u001b[0mNew cache created: /content/data/labels/val.cache\n",
            "Plotting labels to runs/detect/train/labels.jpg... \n",
            "\u001b[34m\u001b[1moptimizer:\u001b[0m 'optimizer=auto' found, ignoring 'lr0=0.01' and 'momentum=0.937' and determining best 'optimizer', 'lr0' and 'momentum' automatically... \n",
            "\u001b[34m\u001b[1moptimizer:\u001b[0m AdamW(lr=0.001667, momentum=0.9) with parameter groups 57 weight(decay=0.0), 64 weight(decay=0.0005), 63 bias(decay=0.0)\n",
            "Image sizes 640 train, 640 val\n",
            "Using 2 dataloader workers\n",
            "Logging results to \u001b[1mruns/detect/train\u001b[0m\n",
            "Starting training for 10 epochs...\n",
            "Closing dataloader mosaic\n",
            "\u001b[34m\u001b[1malbumentations: \u001b[0mBlur(p=0.01, blur_limit=(3, 7)), MedianBlur(p=0.01, blur_limit=(3, 7)), ToGray(p=0.01, method='weighted_average', num_output_channels=3), CLAHE(p=0.01, clip_limit=(1.0, 4.0), tile_grid_size=(8, 8))\n",
            "\n",
            "      Epoch    GPU_mem   box_loss   cls_loss   dfl_loss  Instances       Size\n",
            "\u001b[K       1/10      2.06G      1.326      3.875      1.823         10        640: 100% ━━━━━━━━━━━━ 5/5 0.86it/s 5.8s\n",
            "\u001b[K                 Class     Images  Instances      Box(P          R      mAP50  mAP50-95): 100% ━━━━━━━━━━━━ 1/1 0.79it/s 1.3s\n",
            "                   all         10          9    0.00318          1      0.354      0.156\n",
            "\n",
            "      Epoch    GPU_mem   box_loss   cls_loss   dfl_loss  Instances       Size\n",
            "\u001b[K       2/10      2.09G      1.049      3.654      1.544         11        640: 100% ━━━━━━━━━━━━ 5/5 4.4it/s 1.1s\n",
            "\u001b[K                 Class     Images  Instances      Box(P          R      mAP50  mAP50-95): 100% ━━━━━━━━━━━━ 1/1 5.3it/s 0.2s\n",
            "                   all         10          9     0.0031          1      0.691       0.46\n",
            "\n",
            "      Epoch    GPU_mem   box_loss   cls_loss   dfl_loss  Instances       Size\n",
            "\u001b[K       3/10      2.11G     0.8442      2.838      1.462         10        640: 100% ━━━━━━━━━━━━ 5/5 5.2it/s 1.0s\n",
            "\u001b[K                 Class     Images  Instances      Box(P          R      mAP50  mAP50-95): 100% ━━━━━━━━━━━━ 1/1 10.4it/s 0.1s\n",
            "                   all         10          9    0.00305          1      0.676      0.479\n",
            "\n",
            "      Epoch    GPU_mem   box_loss   cls_loss   dfl_loss  Instances       Size\n",
            "\u001b[K       4/10      2.12G     0.8203       2.34      1.398         10        640: 100% ━━━━━━━━━━━━ 5/5 5.3it/s 1.0s\n",
            "\u001b[K                 Class     Images  Instances      Box(P          R      mAP50  mAP50-95): 100% ━━━━━━━━━━━━ 1/1 11.2it/s 0.1s\n",
            "                   all         10          9    0.00302          1      0.671      0.538\n",
            "\n",
            "      Epoch    GPU_mem   box_loss   cls_loss   dfl_loss  Instances       Size\n",
            "\u001b[K       5/10      2.15G     0.7065      2.253      1.289         10        640: 100% ━━━━━━━━━━━━ 5/5 4.6it/s 1.1s\n",
            "\u001b[K                 Class     Images  Instances      Box(P          R      mAP50  mAP50-95): 100% ━━━━━━━━━━━━ 1/1 3.8it/s 0.3s\n",
            "                   all         10          9    0.00303          1      0.679      0.536\n",
            "\n",
            "      Epoch    GPU_mem   box_loss   cls_loss   dfl_loss  Instances       Size\n",
            "\u001b[K       6/10      2.16G     0.6709       1.99      1.233         10        640: 100% ━━━━━━━━━━━━ 5/5 4.1it/s 1.2s\n",
            "\u001b[K                 Class     Images  Instances      Box(P          R      mAP50  mAP50-95): 100% ━━━━━━━━━━━━ 1/1 4.5it/s 0.2s\n",
            "                   all         10          9    0.00302          1      0.723      0.576\n",
            "\n",
            "      Epoch    GPU_mem   box_loss   cls_loss   dfl_loss  Instances       Size\n",
            "\u001b[K       7/10      2.19G     0.6386      1.892      1.213         10        640: 100% ━━━━━━━━━━━━ 5/5 5.6it/s 0.9s\n",
            "\u001b[K                 Class     Images  Instances      Box(P          R      mAP50  mAP50-95): 100% ━━━━━━━━━━━━ 1/1 6.3it/s 0.2s\n",
            "                   all         10          9    0.00303          1      0.639      0.493\n",
            "\n",
            "      Epoch    GPU_mem   box_loss   cls_loss   dfl_loss  Instances       Size\n",
            "\u001b[K       8/10      2.19G     0.6716      1.925      1.232         10        640: 100% ━━━━━━━━━━━━ 5/5 5.5it/s 0.9s\n",
            "\u001b[K                 Class     Images  Instances      Box(P          R      mAP50  mAP50-95): 100% ━━━━━━━━━━━━ 1/1 6.6it/s 0.2s\n",
            "                   all         10          9    0.00303          1       0.66      0.505\n",
            "\n",
            "      Epoch    GPU_mem   box_loss   cls_loss   dfl_loss  Instances       Size\n",
            "\u001b[K       9/10      2.22G     0.6484      1.879      1.243         10        640: 100% ━━━━━━━━━━━━ 5/5 4.8it/s 1.0s\n",
            "\u001b[K                 Class     Images  Instances      Box(P          R      mAP50  mAP50-95): 100% ━━━━━━━━━━━━ 1/1 7.0it/s 0.1s\n",
            "                   all         10          9    0.00302          1      0.753      0.634\n",
            "\n",
            "      Epoch    GPU_mem   box_loss   cls_loss   dfl_loss  Instances       Size\n",
            "\u001b[K      10/10      2.23G     0.6398      1.813      1.158         11        640: 100% ━━━━━━━━━━━━ 5/5 5.9it/s 0.8s\n",
            "\u001b[K                 Class     Images  Instances      Box(P          R      mAP50  mAP50-95): 100% ━━━━━━━━━━━━ 1/1 6.1it/s 0.2s\n",
            "                   all         10          9    0.00304          1      0.833       0.71\n",
            "\n",
            "10 epochs completed in 0.006 hours.\n",
            "Optimizer stripped from runs/detect/train/weights/last.pt, 6.2MB\n",
            "Optimizer stripped from runs/detect/train/weights/best.pt, 6.2MB\n",
            "\n",
            "Validating runs/detect/train/weights/best.pt...\n",
            "Ultralytics 8.3.190 🚀 Python-3.12.11 torch-2.8.0+cu126 CUDA:0 (Tesla T4, 15095MiB)\n",
            "Model summary (fused): 72 layers, 3,006,038 parameters, 0 gradients, 8.1 GFLOPs\n",
            "\u001b[K                 Class     Images  Instances      Box(P          R      mAP50  mAP50-95): 100% ━━━━━━━━━━━━ 1/1 10.3it/s 0.1s\n",
            "                   all         10          9    0.00304          1      0.831      0.709\n",
            "                 drink          5          5    0.00358          1      0.995      0.885\n",
            "                  food          4          4    0.00249          1      0.668      0.533\n",
            "Speed: 0.2ms preprocess, 2.1ms inference, 0.0ms loss, 3.4ms postprocess per image\n",
            "Results saved to \u001b[1mruns/detect/train\u001b[0m\n",
            "💡 Learn more at https://docs.ultralytics.com/modes/train\n"
          ]
        }
      ]
    },
    {
      "cell_type": "markdown",
      "source": [
        "默认情况下，YOLOv8会将训练结果保存在/content/runs/detect/train/。该目录包含："
      ],
      "metadata": {
        "id": "jzwZtbi9Lz5M"
      }
    },
    {
      "cell_type": "markdown",
      "source": [
        "```\n",
        "模型文件：best.pt（最佳模型）、last.pt（最后一轮模型）\n",
        "训练日志：results.csv、results.png\n",
        "验证结果：验证图片和预测结果\n",
        "配置文件：训练配置和超参数\n",
        "```"
      ],
      "metadata": {
        "id": "ksd7Bho8L7x4"
      }
    },
    {
      "cell_type": "markdown",
      "source": [
        "# **7、下载数据集和训练成果**"
      ],
      "metadata": {
        "id": "b4JRxv8jMKI7"
      }
    },
    {
      "cell_type": "markdown",
      "source": [
        "**（1）下载完整项目包**\n",
        "\n",
        "\n",
        "---\n",
        "\n"
      ],
      "metadata": {
        "id": "03OMMx2hAAc0"
      }
    },
    {
      "cell_type": "markdown",
      "source": [
        "ultralyticsHUB平台提供了在线demo服务，因此下载数据集data后，可以自行压缩上传到HUB的data平台上训练，方便直接查看效果。"
      ],
      "metadata": {
        "id": "wlGk6-aNOvwm"
      }
    },
    {
      "cell_type": "markdown",
      "source": [
        "另外自己测试了一下，用ultralyticsHUB平台直接训练后下载模型会比这里下载的效果更好，可能是平台自定义的参数更大导致的，所以也可以用这个笔记获得数据集之后在平台上训练"
      ],
      "metadata": {
        "id": "GubddvFwMIC5"
      }
    },
    {
      "cell_type": "markdown",
      "source": [
        "平台使用我后面会出一个视频，自己探索一下是有下载.pt文件的功能的"
      ],
      "metadata": {
        "id": "elv22r31Mg9c"
      }
    },
    {
      "cell_type": "code",
      "source": [
        "# 创建完整项目包\n",
        "!mkdir /content/myproject 2>/dev/null\n",
        "!cp -r /content/data /content/myproject/ 2>/dev/null\n",
        "!cp /content/data.yaml /content/myproject/data 2>/dev/null\n",
        "!cp /content/runs/detect/train/weights/best.pt /content/myproject/my_model.pt 2>/dev/null\n",
        "\n",
        "# 将myproject文件夹压缩\n",
        "!cd myproject && zip -qq -r /content/my_project.zip ."
      ],
      "metadata": {
        "id": "CZZFHibLNPuH"
      },
      "execution_count": null,
      "outputs": []
    },
    {
      "cell_type": "markdown",
      "source": [
        "下面这一步利用代码下载，可能花的时间比较长，也可以直接从边栏点击···下载。"
      ],
      "metadata": {
        "id": "kTv28RLQNUUI"
      }
    },
    {
      "cell_type": "code",
      "source": [
        "from google.colab import files\n",
        "files.download('/content/my_project.zip')"
      ],
      "metadata": {
        "colab": {
          "base_uri": "https://localhost:8080/",
          "height": 17
        },
        "id": "bDGQUBKFNT7K",
        "outputId": "c162d388-8ba1-49e7-e285-f762a3b4151a"
      },
      "execution_count": null,
      "outputs": [
        {
          "output_type": "display_data",
          "data": {
            "text/plain": [
              "<IPython.core.display.Javascript object>"
            ],
            "application/javascript": [
              "\n",
              "    async function download(id, filename, size) {\n",
              "      if (!google.colab.kernel.accessAllowed) {\n",
              "        return;\n",
              "      }\n",
              "      const div = document.createElement('div');\n",
              "      const label = document.createElement('label');\n",
              "      label.textContent = `Downloading \"${filename}\": `;\n",
              "      div.appendChild(label);\n",
              "      const progress = document.createElement('progress');\n",
              "      progress.max = size;\n",
              "      div.appendChild(progress);\n",
              "      document.body.appendChild(div);\n",
              "\n",
              "      const buffers = [];\n",
              "      let downloaded = 0;\n",
              "\n",
              "      const channel = await google.colab.kernel.comms.open(id);\n",
              "      // Send a message to notify the kernel that we're ready.\n",
              "      channel.send({})\n",
              "\n",
              "      for await (const message of channel.messages) {\n",
              "        // Send a message to notify the kernel that we're ready.\n",
              "        channel.send({})\n",
              "        if (message.buffers) {\n",
              "          for (const buffer of message.buffers) {\n",
              "            buffers.push(buffer);\n",
              "            downloaded += buffer.byteLength;\n",
              "            progress.value = downloaded;\n",
              "          }\n",
              "        }\n",
              "      }\n",
              "      const blob = new Blob(buffers, {type: 'application/binary'});\n",
              "      const a = document.createElement('a');\n",
              "      a.href = window.URL.createObjectURL(blob);\n",
              "      a.download = filename;\n",
              "      div.appendChild(a);\n",
              "      a.click();\n",
              "      div.remove();\n",
              "    }\n",
              "  "
            ]
          },
          "metadata": {}
        },
        {
          "output_type": "display_data",
          "data": {
            "text/plain": [
              "<IPython.core.display.Javascript object>"
            ],
            "application/javascript": [
              "download(\"download_801f0c69-c93a-47c1-b31e-ccb715b5d63a\", \"my_project.zip\", 81304266)"
            ]
          },
          "metadata": {}
        }
      ]
    },
    {
      "cell_type": "markdown",
      "source": [
        "**（2）仅下载数据集（用于上传ultralyticsHUB训练模型）**\n",
        "\n",
        "---\n",
        "\n",
        "[ultralyticsHUB指路](https://hub.ultralytics.com/)"
      ],
      "metadata": {
        "id": "OmJMDHXmAghb"
      }
    },
    {
      "cell_type": "markdown",
      "source": [
        "在data文件夹中写符合ultralyticsHUB数据集要求的.yaml文件"
      ],
      "metadata": {
        "id": "ElK06mziAopv"
      }
    },
    {
      "cell_type": "markdown",
      "source": [
        "HUB中有dataset的示例，其yaml文件为了适配HUB自己的代码写法和我们这里的不太一样，所以要另外写一个保存！"
      ],
      "metadata": {
        "id": "SQOf3YJ7CMA5"
      }
    },
    {
      "cell_type": "code",
      "source": [
        "import yaml\n",
        "import os\n",
        "\n",
        "dataset_path = \"/content/data\"\n",
        "classes_file = \"/content/custom_data/data/labels/classes.txt\"\n",
        "output_yaml = \"/content/data/dataset.yaml\"\n",
        "\n",
        "if not os.path.exists(classes_file):\n",
        "    print(f\"错误：classes.txt文件不存在 - {classes_file}\")\n",
        "    print(\"请确保classes.txt文件存在并包含类别名称\")\n",
        "    exit()\n",
        "\n",
        "classes = []\n",
        "with open(classes_file, 'r', encoding='utf-8') as f:\n",
        "    for line in f.readlines():\n",
        "        if len(line.strip()) == 0:\n",
        "            continue\n",
        "        classes.append(line.strip())\n",
        "\n",
        "number_of_classes = len(classes)\n",
        "\n",
        "config = {\n",
        "    'path': '',\n",
        "    'train': 'images/train',\n",
        "    'val': 'images/val',\n",
        "    'test': 'images/test',\n",
        "    'nc': number_of_classes,\n",
        "    'names': classes\n",
        "}\n",
        "\n",
        "with open(output_yaml, 'w', encoding='utf-8') as f:\n",
        "    yaml.dump(config, f, sort_keys=False)\n",
        "\n",
        "print(f\"YAML配置文件已创建: {output_yaml}\")\n",
        "\n",
        "print('\\n文件内容:\\n')\n",
        "print(open(output_yaml).read())"
      ],
      "metadata": {
        "colab": {
          "base_uri": "https://localhost:8080/"
        },
        "id": "hWEVHObzAoVw",
        "outputId": "88ab4f14-ab49-493a-b5d2-710cc2cf1627"
      },
      "execution_count": null,
      "outputs": [
        {
          "output_type": "stream",
          "name": "stdout",
          "text": [
            "YAML配置文件已创建: /content/data/dataset.yaml\n",
            "\n",
            "文件内容:\n",
            "\n",
            "path: ''\n",
            "train: images/train\n",
            "val: images/val\n",
            "test: images/test\n",
            "nc: 2\n",
            "names:\n",
            "- drink\n",
            "- food\n",
            "\n"
          ]
        }
      ]
    },
    {
      "cell_type": "markdown",
      "source": [
        "压缩data文件夹至dataset.zip"
      ],
      "metadata": {
        "id": "sKfYZXl_CD2v"
      }
    },
    {
      "cell_type": "code",
      "source": [
        "!cd data && zip -qq -r /content/dataset.zip ."
      ],
      "metadata": {
        "id": "t_oY4KQCCdte"
      },
      "execution_count": null,
      "outputs": []
    },
    {
      "cell_type": "markdown",
      "source": [
        "下载dataset.zip文件"
      ],
      "metadata": {
        "id": "66b-R_T6CGbm"
      }
    },
    {
      "cell_type": "code",
      "source": [
        "from google.colab import files\n",
        "files.download('/content/dataset.zip')"
      ],
      "metadata": {
        "colab": {
          "base_uri": "https://localhost:8080/",
          "height": 17
        },
        "id": "q6BkJVl5o_8B",
        "outputId": "13515470-339a-4b79-a8bc-15f1556d9e30"
      },
      "execution_count": null,
      "outputs": [
        {
          "output_type": "display_data",
          "data": {
            "text/plain": [
              "<IPython.core.display.Javascript object>"
            ],
            "application/javascript": [
              "\n",
              "    async function download(id, filename, size) {\n",
              "      if (!google.colab.kernel.accessAllowed) {\n",
              "        return;\n",
              "      }\n",
              "      const div = document.createElement('div');\n",
              "      const label = document.createElement('label');\n",
              "      label.textContent = `Downloading \"${filename}\": `;\n",
              "      div.appendChild(label);\n",
              "      const progress = document.createElement('progress');\n",
              "      progress.max = size;\n",
              "      div.appendChild(progress);\n",
              "      document.body.appendChild(div);\n",
              "\n",
              "      const buffers = [];\n",
              "      let downloaded = 0;\n",
              "\n",
              "      const channel = await google.colab.kernel.comms.open(id);\n",
              "      // Send a message to notify the kernel that we're ready.\n",
              "      channel.send({})\n",
              "\n",
              "      for await (const message of channel.messages) {\n",
              "        // Send a message to notify the kernel that we're ready.\n",
              "        channel.send({})\n",
              "        if (message.buffers) {\n",
              "          for (const buffer of message.buffers) {\n",
              "            buffers.push(buffer);\n",
              "            downloaded += buffer.byteLength;\n",
              "            progress.value = downloaded;\n",
              "          }\n",
              "        }\n",
              "      }\n",
              "      const blob = new Blob(buffers, {type: 'application/binary'});\n",
              "      const a = document.createElement('a');\n",
              "      a.href = window.URL.createObjectURL(blob);\n",
              "      a.download = filename;\n",
              "      div.appendChild(a);\n",
              "      a.click();\n",
              "      div.remove();\n",
              "    }\n",
              "  "
            ]
          },
          "metadata": {}
        },
        {
          "output_type": "display_data",
          "data": {
            "text/plain": [
              "<IPython.core.display.Javascript object>"
            ],
            "application/javascript": [
              "download(\"download_5fd45be2-87a9-4931-b988-cccaa7913cbc\", \"dataset.zip\", 75645956)"
            ]
          },
          "metadata": {}
        }
      ]
    },
    {
      "cell_type": "markdown",
      "source": [
        "# **8、在本地调用模型**"
      ],
      "metadata": {
        "id": "j7a04sKtQhHr"
      }
    },
    {
      "cell_type": "markdown",
      "source": [
        "本地调用模型需要预先安装pytorch和ultralytics两个库。"
      ],
      "metadata": {
        "id": "Yzc8ThtvRWs5"
      }
    },
    {
      "cell_type": "markdown",
      "source": [
        "尽量使用py3.11+的虚拟环境。注意该虚拟环境和labelImg的不能是同一个，因为labelImg只能匹配py3.9解释器。"
      ],
      "metadata": {
        "id": "ZRSZ81L5WEtQ"
      }
    },
    {
      "cell_type": "markdown",
      "source": [
        "从官网获取下载pytorch的适配命令行：https://pytorch.org/"
      ],
      "metadata": {
        "id": "TZYlADFIRCKB"
      }
    },
    {
      "cell_type": "markdown",
      "source": [
        "ultralytics安装命令行：pip3 install ultralytics"
      ],
      "metadata": {
        "id": "Q_EbOmDKSg12"
      }
    },
    {
      "cell_type": "markdown",
      "source": [
        "另外conda命令似乎无法下载这两个库，最好使用pip。"
      ],
      "metadata": {
        "id": "uQwGBwakQk9Q"
      }
    },
    {
      "cell_type": "markdown",
      "source": [
        "调用示例链接：https://github.com/EdjeElectronics/Train-and-Deploy-YOLO-Models/blob/main/examples/candy_calorie_counter/candy_calorie_counter.py"
      ],
      "metadata": {
        "id": "j3ybw7jBX3C1"
      }
    },
    {
      "cell_type": "markdown",
      "source": [
        "# **备用**"
      ],
      "metadata": {
        "id": "Fz5n-iUtDB69"
      }
    },
    {
      "cell_type": "markdown",
      "source": [
        "从边栏删除文件夹的命令行代码"
      ],
      "metadata": {
        "id": "dWJpy1BJDHks"
      }
    },
    {
      "cell_type": "code",
      "source": [
        "!rm -rf /content/data"
      ],
      "metadata": {
        "id": "GHB-SPQ9C-Fc"
      },
      "execution_count": null,
      "outputs": []
    }
  ]
}