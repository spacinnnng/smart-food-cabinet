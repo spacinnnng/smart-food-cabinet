{
  "nbformat": 4,
  "nbformat_minor": 0,
  "metadata": {
    "colab": {
      "provenance": [],
      "gpuType": "T4"
    },
    "kernelspec": {
      "name": "python3",
      "display_name": "Python 3"
    },
    "language_info": {
      "name": "python"
    },
    "accelerator": "GPU"
  },
  "cells": [
    {
      "cell_type": "markdown",
      "source": [
        "# **YOLO模型训练全流程笔记**\n",
        "\n",
        "---\n",
        "\n",
        "\n"
      ],
      "metadata": {
        "id": "UIaVyUSWPEcU"
      }
    },
    {
      "cell_type": "markdown",
      "source": [
        "整体思路参考油管视频：https://www.youtube.com/watch?v=r0RspiLG260"
      ],
      "metadata": {
        "id": "l-SUF9qEPRZv"
      }
    },
    {
      "cell_type": "markdown",
      "source": [
        "注：上面视频中用的标记工具是labelstudio，但我试了一下导出效果不太稳定，所以下面换用了更为稳定的labelImg"
      ],
      "metadata": {
        "id": "wIu1VAT8QN59"
      }
    },
    {
      "cell_type": "markdown",
      "source": [
        "# **1、训练环境检查**"
      ],
      "metadata": {
        "id": "1q1hLQFO1eYC"
      }
    },
    {
      "cell_type": "code",
      "execution_count": null,
      "metadata": {
        "colab": {
          "base_uri": "https://localhost:8080/"
        },
        "id": "czn-QtFj0iPi",
        "outputId": "6573a83d-2bb7-45d9-b318-26ef6269c781"
      },
      "outputs": [
        {
          "output_type": "stream",
          "name": "stdout",
          "text": [
            "Fri Aug  1 04:10:31 2025       \n",
            "+-----------------------------------------------------------------------------------------+\n",
            "| NVIDIA-SMI 550.54.15              Driver Version: 550.54.15      CUDA Version: 12.4     |\n",
            "|-----------------------------------------+------------------------+----------------------+\n",
            "| GPU  Name                 Persistence-M | Bus-Id          Disp.A | Volatile Uncorr. ECC |\n",
            "| Fan  Temp   Perf          Pwr:Usage/Cap |           Memory-Usage | GPU-Util  Compute M. |\n",
            "|                                         |                        |               MIG M. |\n",
            "|=========================================+========================+======================|\n",
            "|   0  Tesla T4                       Off |   00000000:00:04.0 Off |                    0 |\n",
            "| N/A   51C    P8             10W /   70W |       0MiB /  15360MiB |      0%      Default |\n",
            "|                                         |                        |                  N/A |\n",
            "+-----------------------------------------+------------------------+----------------------+\n",
            "                                                                                         \n",
            "+-----------------------------------------------------------------------------------------+\n",
            "| Processes:                                                                              |\n",
            "|  GPU   GI   CI        PID   Type   Process name                              GPU Memory |\n",
            "|        ID   ID                                                               Usage      |\n",
            "|=========================================================================================|\n",
            "|  No running processes found                                                             |\n",
            "+-----------------------------------------------------------------------------------------+\n"
          ]
        }
      ],
      "source": [
        "!nvidia-smi"
      ]
    },
    {
      "cell_type": "markdown",
      "source": [
        "# **2、使用labelImg标注**"
      ],
      "metadata": {
        "id": "VsWGckCN6aYI"
      }
    },
    {
      "cell_type": "markdown",
      "source": [
        "labelImg github仓库链接：https://github.com/HumanSignal/labelImg"
      ],
      "metadata": {
        "id": "QqDEbjSi7GGY"
      }
    },
    {
      "cell_type": "markdown",
      "source": [
        "油管教学视频链接：https://www.youtube.com/watch?v=pTJT8kKi9SM&t=53s"
      ],
      "metadata": {
        "id": "eFjK5Fo3O8QF"
      }
    },
    {
      "cell_type": "markdown",
      "source": [
        "【注意】"
      ],
      "metadata": {
        "id": "N9iaQX8r6gLv"
      }
    },
    {
      "cell_type": "markdown",
      "source": [
        "1、labelImg版本较老，需要匹配python3.9"
      ],
      "metadata": {
        "id": "IKU_dmk2EQak"
      }
    },
    {
      "cell_type": "markdown",
      "source": [
        "2、可以先标注一部分，再加入新图片，再标注。但务必注意，不可以两个文件夹分别标注之后再合并，因为classes.txt可能会冲突！"
      ],
      "metadata": {
        "id": "wYG1RC5hERvq"
      }
    },
    {
      "cell_type": "markdown",
      "source": [
        "数据集文件夹命名为data，文件夹内部结构及命名如下，方便后续调用python代码分组。"
      ],
      "metadata": {
        "id": "qq-YB92T7TOw"
      }
    },
    {
      "cell_type": "markdown",
      "source": [
        "image可以不全部标注。后面会有代码用于删除冗余图片"
      ],
      "metadata": {
        "id": "6v_C47yb9G1l"
      }
    },
    {
      "cell_type": "markdown",
      "source": [
        "```\n",
        "data/\n",
        "├── images/\n",
        "│   ├── 微信图片_20250731155238_291.jpg\n",
        "│   ├── 微信图片_20250731155238_292.jpg\n",
        "│   ├── 微信图片_20250731155238_293.jpg\n",
        "│   ├── 微信图片_20250731155238_294.jpg\n",
        "│   ├── 微信图片_20250731155238_295.jpg\n",
        "│   └── 微信图片_20250731155238_296.jpg\n",
        "└── labels/\n",
        "    ├── classes.txt\n",
        "    ├── 微信图片_20250731155238_291.txt\n",
        "    ├── 微信图片_20250731155238_292.txt\n",
        "    ├── 微信图片_20250731155238_293.txt\n",
        "    └── 微信图片_20250731155238_294.txt\n",
        "```"
      ],
      "metadata": {
        "id": "oVnspEiP81zt"
      }
    },
    {
      "cell_type": "markdown",
      "source": [
        "# **3、准备训练数据集**"
      ],
      "metadata": {
        "id": "MxZUrcYd6esb"
      }
    },
    {
      "cell_type": "markdown",
      "source": [
        "以data.zip的形式在本笔记中上传data文件夹。"
      ],
      "metadata": {
        "id": "Bc1MoAc_5tPi"
      }
    },
    {
      "cell_type": "markdown",
      "source": [
        "运行以下代码，解压缩数据集data.zip，将其中的所有文件解压到 /content/custom_data 文件夹。"
      ],
      "metadata": {
        "id": "aawa-ffd05Gj"
      }
    },
    {
      "cell_type": "code",
      "source": [
        "!unzip -q /content/data.zip -d /content/custom_data"
      ],
      "metadata": {
        "id": "qF5yTB-j04Th"
      },
      "execution_count": null,
      "outputs": []
    },
    {
      "cell_type": "markdown",
      "source": [
        "运行以下代码，删除未标记的图片。"
      ],
      "metadata": {
        "id": "_ifM-ef68raF"
      }
    },
    {
      "cell_type": "code",
      "source": [
        "import os\n",
        "import glob\n",
        "\n",
        "def filter_images_by_labels(images_dir, labels_dir):\n",
        "    label_files = glob.glob(os.path.join(labels_dir, \"*.txt\"))\n",
        "\n",
        "    label_basenames = set()\n",
        "    for label_file in label_files:\n",
        "        basename = os.path.splitext(os.path.basename(label_file))[0]\n",
        "        label_basenames.add(basename)\n",
        "\n",
        "    image_extensions = ['*.jpg', '*.jpeg', '*.png', '*.bmp', '*.gif', '*.tiff']\n",
        "    image_files = []\n",
        "    for ext in image_extensions:\n",
        "        image_files.extend(glob.glob(os.path.join(images_dir, ext)))\n",
        "        image_files.extend(glob.glob(os.path.join(images_dir, ext.upper())))\n",
        "\n",
        "    files_to_keep = []\n",
        "    files_to_delete = []\n",
        "\n",
        "    for image_file in image_files:\n",
        "        basename = os.path.splitext(os.path.basename(image_file))[0]\n",
        "\n",
        "        if basename in label_basenames:\n",
        "            files_to_keep.append(image_file)\n",
        "        else:\n",
        "            files_to_delete.append(image_file)\n",
        "\n",
        "    if files_to_delete:\n",
        "        for file in files_to_delete:\n",
        "            try:\n",
        "                os.remove(file)\n",
        "            except OSError as e:\n",
        "                print(f\"删除失败: {os.path.basename(file)} - {e}\")\n",
        "\n",
        "    print(\"image与label文件名匹配完成！\")\n",
        "\n",
        "custom_data_directory = \"custom_data\"\n",
        "data_directory = os.path.join(custom_data_directory, \"data\")\n",
        "images_directory = os.path.join(data_directory, \"images\")\n",
        "labels_directory = os.path.join(data_directory, \"labels\")\n",
        "\n",
        "if os.path.exists(images_directory) and os.path.exists(labels_directory):\n",
        "    filter_images_by_labels(images_directory, labels_directory)\n",
        "else:\n",
        "    print(\"错误：图片目录或标签目录不存在\")\n",
        "    print(f\"图片目录存在: {os.path.exists(images_directory)}\")\n",
        "    print(f\"标签目录存在: {os.path.exists(labels_directory)}\")"
      ],
      "metadata": {
        "colab": {
          "base_uri": "https://localhost:8080/"
        },
        "id": "JU6kvVNi9QfC",
        "outputId": "314bb59a-c6e1-4310-b069-dd9991a478e4"
      },
      "execution_count": null,
      "outputs": [
        {
          "output_type": "stream",
          "name": "stdout",
          "text": [
            "image与label文件名匹配完成！\n"
          ]
        }
      ]
    },
    {
      "cell_type": "markdown",
      "source": [
        "运行以下代码，将在根目录下生成一个data文件夹，内部自动按照8:1:1的比例分配train, test, val为可训练格式。"
      ],
      "metadata": {
        "id": "OePHDA-x2Ro1"
      }
    },
    {
      "cell_type": "markdown",
      "source": [
        "data文件夹结构如下："
      ],
      "metadata": {
        "id": "oPYtgW-CHRTy"
      }
    },
    {
      "cell_type": "markdown",
      "source": [
        "```\n",
        "/content/data/\n",
        "├── images/\n",
        "│   ├── train/\n",
        "│   │   ├── 图片1.jpg\n",
        "│   │   ├── 图片2.jpg\n",
        "│   │   └── ... (80%的图片)\n",
        "│   ├── test/\n",
        "│   │   ├── 图片3.jpg\n",
        "│   │   └── ... (10%的图片)\n",
        "│   └── val/\n",
        "│       ├── 图片4.jpg\n",
        "│       └── ... (10%的图片)\n",
        "└── labels/\n",
        "    ├── train/\n",
        "    │   ├── 图片1.txt\n",
        "    │   ├── 图片2.txt\n",
        "    │   └── ... (80%的标签)\n",
        "    ├── test/\n",
        "    │   ├── 图片3.txt\n",
        "    │   └── ... (10%的标签)\n",
        "    └── val/\n",
        "        ├── 图片4.txt\n",
        "        └── ... (10%的标签)\n",
        "```"
      ],
      "metadata": {
        "id": "gjocpUg4HTB7"
      }
    },
    {
      "cell_type": "code",
      "source": [
        "import os\n",
        "import shutil\n",
        "import random\n",
        "from pathlib import Path\n",
        "\n",
        "source_images_dir = \"/content/custom_data/data/images\"\n",
        "source_labels_dir = \"/content/custom_data/data/labels\"\n",
        "output_dir = \"/content/data\"\n",
        "\n",
        "if not os.path.exists(source_images_dir):\n",
        "    print(f\"错误：图片目录不存在 - {source_images_dir}\")\n",
        "    exit()\n",
        "\n",
        "if not os.path.exists(source_labels_dir):\n",
        "    print(f\"错误：标签目录不存在 - {source_labels_dir}\")\n",
        "    exit()\n",
        "\n",
        "image_extensions = ['*.jpg', '*.jpeg', '*.png', '*.bmp', '*.gif', '*.tiff']\n",
        "image_files = []\n",
        "\n",
        "for ext in image_extensions:\n",
        "    image_files.extend(Path(source_images_dir).glob(ext))\n",
        "    image_files.extend(Path(source_images_dir).glob(ext.upper()))\n",
        "\n",
        "label_files = list(Path(source_labels_dir).glob(\"*.txt\"))\n",
        "\n",
        "image_label_pairs = []\n",
        "\n",
        "for image_file in image_files:\n",
        "    image_name = image_file.stem\n",
        "    label_file = Path(source_labels_dir) / f\"{image_name}.txt\"\n",
        "\n",
        "    if label_file.exists():\n",
        "        image_label_pairs.append((image_file, label_file))\n",
        "\n",
        "if len(image_label_pairs) == 0:\n",
        "    print(\"没有找到匹配的图片和标签文件\")\n",
        "    exit()\n",
        "\n",
        "random.seed(42)\n",
        "random.shuffle(image_label_pairs)\n",
        "\n",
        "total_count = len(image_label_pairs)\n",
        "train_count = int(total_count * 0.8)\n",
        "test_count = int(total_count * 0.1)\n",
        "val_count = total_count - train_count - test_count\n",
        "\n",
        "train_pairs = image_label_pairs[:train_count]\n",
        "test_pairs = image_label_pairs[train_count:train_count + test_count]\n",
        "val_pairs = image_label_pairs[train_count + test_count:]\n",
        "\n",
        "# 创建COCO8格式的目录结构\n",
        "output_images_dir = Path(output_dir) / \"images\"\n",
        "output_labels_dir = Path(output_dir) / \"labels\"\n",
        "\n",
        "# 创建train目录\n",
        "train_images_dir = output_images_dir / \"train\"\n",
        "train_labels_dir = output_labels_dir / \"train\"\n",
        "train_images_dir.mkdir(parents=True, exist_ok=True)\n",
        "train_labels_dir.mkdir(parents=True, exist_ok=True)\n",
        "\n",
        "for image_file, label_file in train_pairs:\n",
        "    shutil.copy2(image_file, train_images_dir / image_file.name)\n",
        "    shutil.copy2(label_file, train_labels_dir / label_file.name)\n",
        "\n",
        "# 创建test目录\n",
        "test_images_dir = output_images_dir / \"test\"\n",
        "test_labels_dir = output_labels_dir / \"test\"\n",
        "test_images_dir.mkdir(parents=True, exist_ok=True)\n",
        "test_labels_dir.mkdir(parents=True, exist_ok=True)\n",
        "\n",
        "for image_file, label_file in test_pairs:\n",
        "    shutil.copy2(image_file, test_images_dir / image_file.name)\n",
        "    shutil.copy2(label_file, test_labels_dir / label_file.name)\n",
        "\n",
        "# 创建val目录\n",
        "val_images_dir = output_images_dir / \"val\"\n",
        "val_labels_dir = output_labels_dir / \"val\"\n",
        "val_images_dir.mkdir(parents=True, exist_ok=True)\n",
        "val_labels_dir.mkdir(parents=True, exist_ok=True)\n",
        "\n",
        "for image_file, label_file in val_pairs:\n",
        "    shutil.copy2(image_file, val_images_dir / image_file.name)\n",
        "    shutil.copy2(label_file, val_labels_dir / label_file.name)\n",
        "\n",
        "print(\"数据集分割完成！\")"
      ],
      "metadata": {
        "id": "ajfU9JAh7vBb",
        "colab": {
          "base_uri": "https://localhost:8080/"
        },
        "outputId": "f865983a-89d8-40d6-81b9-f6d37906f8d0"
      },
      "execution_count": null,
      "outputs": [
        {
          "output_type": "stream",
          "name": "stdout",
          "text": [
            "数据集分割完成！\n"
          ]
        }
      ]
    },
    {
      "cell_type": "markdown",
      "source": [
        "# **4、准备.yaml文件**"
      ],
      "metadata": {
        "id": "QK3IJH7a_MPP"
      }
    },
    {
      "cell_type": "markdown",
      "source": [
        "运行以下代码生成训练所需要的.yaml文件，同样放在根目录下。"
      ],
      "metadata": {
        "id": "43wJx_TxIyux"
      }
    },
    {
      "cell_type": "code",
      "source": [
        "import yaml\n",
        "import os\n",
        "\n",
        "dataset_path = \"/content/data\"\n",
        "classes_file = \"/content/custom_data/data/labels/classes.txt\"\n",
        "output_yaml = \"/content/data.yaml\"\n",
        "\n",
        "if not os.path.exists(classes_file):\n",
        "    print(f\"错误：classes.txt文件不存在 - {classes_file}\")\n",
        "    print(\"请确保classes.txt文件存在并包含类别名称\")\n",
        "    exit()\n",
        "\n",
        "classes = []\n",
        "with open(classes_file, 'r', encoding='utf-8') as f:\n",
        "    for line in f.readlines():\n",
        "        if len(line.strip()) == 0:\n",
        "            continue\n",
        "        classes.append(line.strip())\n",
        "\n",
        "number_of_classes = len(classes)\n",
        "\n",
        "config = {\n",
        "    'path': dataset_path,\n",
        "    'train': 'images/train',\n",
        "    'val': 'images/val',\n",
        "    'test': 'images/test',\n",
        "    'nc': number_of_classes,\n",
        "    'names': classes\n",
        "}\n",
        "\n",
        "with open(output_yaml, 'w', encoding='utf-8') as f:\n",
        "    yaml.dump(config, f, sort_keys=False)\n",
        "\n",
        "print(f\"YAML配置文件已创建: {output_yaml}\")\n",
        "\n",
        "print('\\n文件内容:\\n')\n",
        "print(open(output_yaml).read())"
      ],
      "metadata": {
        "colab": {
          "base_uri": "https://localhost:8080/"
        },
        "id": "G3fzmNIOFEKR",
        "outputId": "1d140351-6734-4a51-fd12-6175921fec37"
      },
      "execution_count": null,
      "outputs": [
        {
          "output_type": "stream",
          "name": "stdout",
          "text": [
            "YAML配置文件已创建: /content/data.yaml\n",
            "\n",
            "文件内容:\n",
            "\n",
            "path: /content/data\n",
            "train: images/train\n",
            "val: images/val\n",
            "test: images/test\n",
            "nc: 2\n",
            "names:\n",
            "- table\n",
            "- date\n",
            "\n"
          ]
        }
      ]
    },
    {
      "cell_type": "markdown",
      "source": [
        "到此已经准备好完整的训练数据集。"
      ],
      "metadata": {
        "id": "ca1cfe0cJbv0"
      }
    },
    {
      "cell_type": "markdown",
      "source": [
        "```\n",
        "/content/\n",
        "├── data/\n",
        "│   ├── images/\n",
        "│   │   ├── train/\n",
        "│   │   │   ├── 微信图片_20250731155238_291.jpg\n",
        "│   │   │   ├── 微信图片_20250731155238_292.jpg\n",
        "│   │   │   ├── 微信图片_20250731155238_293.jpg\n",
        "│   │   │   └── 微信图片_20250731155238_294.jpg\n",
        "│   │   ├── test/\n",
        "│   │   │   └── 微信图片_20250731155238_295.jpg\n",
        "│   │   └── val/\n",
        "│   │       └── 微信图片_20250731155238_296.jpg\n",
        "│   └── labels/\n",
        "│       ├── train/\n",
        "│       │   ├── 微信图片_20250731155238_291.txt\n",
        "│       │   ├── 微信图片_20250731155238_292.txt\n",
        "│       │   ├── 微信图片_20250731155238_293.txt\n",
        "│       │   └── 微信图片_20250731155238_294.txt\n",
        "│       ├── test/\n",
        "│       │   └── 微信图片_20250731155238_295.txt\n",
        "│       └── val/\n",
        "│           └── 微信图片_20250731155238_296.txt\n",
        "└── data.yaml\n",
        "```"
      ],
      "metadata": {
        "id": "rptSrXY9I6Zq"
      }
    },
    {
      "cell_type": "markdown",
      "source": [
        "# **5、准备训练环境**"
      ],
      "metadata": {
        "id": "yiCUsyyK_GsD"
      }
    },
    {
      "cell_type": "code",
      "source": [
        "!pip install ultralytics"
      ],
      "metadata": {
        "colab": {
          "base_uri": "https://localhost:8080/"
        },
        "id": "ltF3P-liEnLk",
        "outputId": "3d37b6fd-4efc-4997-9d34-bd6b24a37e6d"
      },
      "execution_count": null,
      "outputs": [
        {
          "output_type": "stream",
          "name": "stdout",
          "text": [
            "Collecting ultralytics\n",
            "  Downloading ultralytics-8.3.171-py3-none-any.whl.metadata (37 kB)\n",
            "Requirement already satisfied: numpy>=1.23.0 in /usr/local/lib/python3.11/dist-packages (from ultralytics) (2.0.2)\n",
            "Requirement already satisfied: matplotlib>=3.3.0 in /usr/local/lib/python3.11/dist-packages (from ultralytics) (3.10.0)\n",
            "Requirement already satisfied: opencv-python>=4.6.0 in /usr/local/lib/python3.11/dist-packages (from ultralytics) (4.12.0.88)\n",
            "Requirement already satisfied: pillow>=7.1.2 in /usr/local/lib/python3.11/dist-packages (from ultralytics) (11.3.0)\n",
            "Requirement already satisfied: pyyaml>=5.3.1 in /usr/local/lib/python3.11/dist-packages (from ultralytics) (6.0.2)\n",
            "Requirement already satisfied: requests>=2.23.0 in /usr/local/lib/python3.11/dist-packages (from ultralytics) (2.32.3)\n",
            "Requirement already satisfied: scipy>=1.4.1 in /usr/local/lib/python3.11/dist-packages (from ultralytics) (1.16.1)\n",
            "Requirement already satisfied: torch>=1.8.0 in /usr/local/lib/python3.11/dist-packages (from ultralytics) (2.6.0+cu124)\n",
            "Requirement already satisfied: torchvision>=0.9.0 in /usr/local/lib/python3.11/dist-packages (from ultralytics) (0.21.0+cu124)\n",
            "Requirement already satisfied: tqdm>=4.64.0 in /usr/local/lib/python3.11/dist-packages (from ultralytics) (4.67.1)\n",
            "Requirement already satisfied: psutil in /usr/local/lib/python3.11/dist-packages (from ultralytics) (5.9.5)\n",
            "Requirement already satisfied: py-cpuinfo in /usr/local/lib/python3.11/dist-packages (from ultralytics) (9.0.0)\n",
            "Requirement already satisfied: pandas>=1.1.4 in /usr/local/lib/python3.11/dist-packages (from ultralytics) (2.2.2)\n",
            "Collecting ultralytics-thop>=2.0.0 (from ultralytics)\n",
            "  Downloading ultralytics_thop-2.0.14-py3-none-any.whl.metadata (9.4 kB)\n",
            "Requirement already satisfied: contourpy>=1.0.1 in /usr/local/lib/python3.11/dist-packages (from matplotlib>=3.3.0->ultralytics) (1.3.3)\n",
            "Requirement already satisfied: cycler>=0.10 in /usr/local/lib/python3.11/dist-packages (from matplotlib>=3.3.0->ultralytics) (0.12.1)\n",
            "Requirement already satisfied: fonttools>=4.22.0 in /usr/local/lib/python3.11/dist-packages (from matplotlib>=3.3.0->ultralytics) (4.59.0)\n",
            "Requirement already satisfied: kiwisolver>=1.3.1 in /usr/local/lib/python3.11/dist-packages (from matplotlib>=3.3.0->ultralytics) (1.4.8)\n",
            "Requirement already satisfied: packaging>=20.0 in /usr/local/lib/python3.11/dist-packages (from matplotlib>=3.3.0->ultralytics) (25.0)\n",
            "Requirement already satisfied: pyparsing>=2.3.1 in /usr/local/lib/python3.11/dist-packages (from matplotlib>=3.3.0->ultralytics) (3.2.3)\n",
            "Requirement already satisfied: python-dateutil>=2.7 in /usr/local/lib/python3.11/dist-packages (from matplotlib>=3.3.0->ultralytics) (2.9.0.post0)\n",
            "Requirement already satisfied: pytz>=2020.1 in /usr/local/lib/python3.11/dist-packages (from pandas>=1.1.4->ultralytics) (2025.2)\n",
            "Requirement already satisfied: tzdata>=2022.7 in /usr/local/lib/python3.11/dist-packages (from pandas>=1.1.4->ultralytics) (2025.2)\n",
            "Requirement already satisfied: charset-normalizer<4,>=2 in /usr/local/lib/python3.11/dist-packages (from requests>=2.23.0->ultralytics) (3.4.2)\n",
            "Requirement already satisfied: idna<4,>=2.5 in /usr/local/lib/python3.11/dist-packages (from requests>=2.23.0->ultralytics) (3.10)\n",
            "Requirement already satisfied: urllib3<3,>=1.21.1 in /usr/local/lib/python3.11/dist-packages (from requests>=2.23.0->ultralytics) (2.5.0)\n",
            "Requirement already satisfied: certifi>=2017.4.17 in /usr/local/lib/python3.11/dist-packages (from requests>=2.23.0->ultralytics) (2025.7.14)\n",
            "Requirement already satisfied: filelock in /usr/local/lib/python3.11/dist-packages (from torch>=1.8.0->ultralytics) (3.18.0)\n",
            "Requirement already satisfied: typing-extensions>=4.10.0 in /usr/local/lib/python3.11/dist-packages (from torch>=1.8.0->ultralytics) (4.14.1)\n",
            "Requirement already satisfied: networkx in /usr/local/lib/python3.11/dist-packages (from torch>=1.8.0->ultralytics) (3.5)\n",
            "Requirement already satisfied: jinja2 in /usr/local/lib/python3.11/dist-packages (from torch>=1.8.0->ultralytics) (3.1.6)\n",
            "Requirement already satisfied: fsspec in /usr/local/lib/python3.11/dist-packages (from torch>=1.8.0->ultralytics) (2025.3.0)\n",
            "Collecting nvidia-cuda-nvrtc-cu12==12.4.127 (from torch>=1.8.0->ultralytics)\n",
            "  Downloading nvidia_cuda_nvrtc_cu12-12.4.127-py3-none-manylinux2014_x86_64.whl.metadata (1.5 kB)\n",
            "Collecting nvidia-cuda-runtime-cu12==12.4.127 (from torch>=1.8.0->ultralytics)\n",
            "  Downloading nvidia_cuda_runtime_cu12-12.4.127-py3-none-manylinux2014_x86_64.whl.metadata (1.5 kB)\n",
            "Collecting nvidia-cuda-cupti-cu12==12.4.127 (from torch>=1.8.0->ultralytics)\n",
            "  Downloading nvidia_cuda_cupti_cu12-12.4.127-py3-none-manylinux2014_x86_64.whl.metadata (1.6 kB)\n",
            "Collecting nvidia-cudnn-cu12==9.1.0.70 (from torch>=1.8.0->ultralytics)\n",
            "  Downloading nvidia_cudnn_cu12-9.1.0.70-py3-none-manylinux2014_x86_64.whl.metadata (1.6 kB)\n",
            "Collecting nvidia-cublas-cu12==12.4.5.8 (from torch>=1.8.0->ultralytics)\n",
            "  Downloading nvidia_cublas_cu12-12.4.5.8-py3-none-manylinux2014_x86_64.whl.metadata (1.5 kB)\n",
            "Collecting nvidia-cufft-cu12==11.2.1.3 (from torch>=1.8.0->ultralytics)\n",
            "  Downloading nvidia_cufft_cu12-11.2.1.3-py3-none-manylinux2014_x86_64.whl.metadata (1.5 kB)\n",
            "Collecting nvidia-curand-cu12==10.3.5.147 (from torch>=1.8.0->ultralytics)\n",
            "  Downloading nvidia_curand_cu12-10.3.5.147-py3-none-manylinux2014_x86_64.whl.metadata (1.5 kB)\n",
            "Collecting nvidia-cusolver-cu12==11.6.1.9 (from torch>=1.8.0->ultralytics)\n",
            "  Downloading nvidia_cusolver_cu12-11.6.1.9-py3-none-manylinux2014_x86_64.whl.metadata (1.6 kB)\n",
            "Collecting nvidia-cusparse-cu12==12.3.1.170 (from torch>=1.8.0->ultralytics)\n",
            "  Downloading nvidia_cusparse_cu12-12.3.1.170-py3-none-manylinux2014_x86_64.whl.metadata (1.6 kB)\n",
            "Requirement already satisfied: nvidia-cusparselt-cu12==0.6.2 in /usr/local/lib/python3.11/dist-packages (from torch>=1.8.0->ultralytics) (0.6.2)\n",
            "Requirement already satisfied: nvidia-nccl-cu12==2.21.5 in /usr/local/lib/python3.11/dist-packages (from torch>=1.8.0->ultralytics) (2.21.5)\n",
            "Requirement already satisfied: nvidia-nvtx-cu12==12.4.127 in /usr/local/lib/python3.11/dist-packages (from torch>=1.8.0->ultralytics) (12.4.127)\n",
            "Collecting nvidia-nvjitlink-cu12==12.4.127 (from torch>=1.8.0->ultralytics)\n",
            "  Downloading nvidia_nvjitlink_cu12-12.4.127-py3-none-manylinux2014_x86_64.whl.metadata (1.5 kB)\n",
            "Requirement already satisfied: triton==3.2.0 in /usr/local/lib/python3.11/dist-packages (from torch>=1.8.0->ultralytics) (3.2.0)\n",
            "Requirement already satisfied: sympy==1.13.1 in /usr/local/lib/python3.11/dist-packages (from torch>=1.8.0->ultralytics) (1.13.1)\n",
            "Requirement already satisfied: mpmath<1.4,>=1.1.0 in /usr/local/lib/python3.11/dist-packages (from sympy==1.13.1->torch>=1.8.0->ultralytics) (1.3.0)\n",
            "Requirement already satisfied: six>=1.5 in /usr/local/lib/python3.11/dist-packages (from python-dateutil>=2.7->matplotlib>=3.3.0->ultralytics) (1.17.0)\n",
            "Requirement already satisfied: MarkupSafe>=2.0 in /usr/local/lib/python3.11/dist-packages (from jinja2->torch>=1.8.0->ultralytics) (3.0.2)\n",
            "Downloading ultralytics-8.3.171-py3-none-any.whl (1.0 MB)\n",
            "\u001b[2K   \u001b[90m━━━━━━━━━━━━━━━━━━━━━━━━━━━━━━━━━━━━━━━━\u001b[0m \u001b[32m1.0/1.0 MB\u001b[0m \u001b[31m27.4 MB/s\u001b[0m eta \u001b[36m0:00:00\u001b[0m\n",
            "\u001b[?25hDownloading nvidia_cublas_cu12-12.4.5.8-py3-none-manylinux2014_x86_64.whl (363.4 MB)\n",
            "\u001b[2K   \u001b[90m━━━━━━━━━━━━━━━━━━━━━━━━━━━━━━━━━━━━━━━━\u001b[0m \u001b[32m363.4/363.4 MB\u001b[0m \u001b[31m3.9 MB/s\u001b[0m eta \u001b[36m0:00:00\u001b[0m\n",
            "\u001b[?25hDownloading nvidia_cuda_cupti_cu12-12.4.127-py3-none-manylinux2014_x86_64.whl (13.8 MB)\n",
            "\u001b[2K   \u001b[90m━━━━━━━━━━━━━━━━━━━━━━━━━━━━━━━━━━━━━━━━\u001b[0m \u001b[32m13.8/13.8 MB\u001b[0m \u001b[31m92.3 MB/s\u001b[0m eta \u001b[36m0:00:00\u001b[0m\n",
            "\u001b[?25hDownloading nvidia_cuda_nvrtc_cu12-12.4.127-py3-none-manylinux2014_x86_64.whl (24.6 MB)\n",
            "\u001b[2K   \u001b[90m━━━━━━━━━━━━━━━━━━━━━━━━━━━━━━━━━━━━━━━━\u001b[0m \u001b[32m24.6/24.6 MB\u001b[0m \u001b[31m70.7 MB/s\u001b[0m eta \u001b[36m0:00:00\u001b[0m\n",
            "\u001b[?25hDownloading nvidia_cuda_runtime_cu12-12.4.127-py3-none-manylinux2014_x86_64.whl (883 kB)\n",
            "\u001b[2K   \u001b[90m━━━━━━━━━━━━━━━━━━━━━━━━━━━━━━━━━━━━━━━━\u001b[0m \u001b[32m883.7/883.7 kB\u001b[0m \u001b[31m53.7 MB/s\u001b[0m eta \u001b[36m0:00:00\u001b[0m\n",
            "\u001b[?25hDownloading nvidia_cudnn_cu12-9.1.0.70-py3-none-manylinux2014_x86_64.whl (664.8 MB)\n",
            "\u001b[2K   \u001b[90m━━━━━━━━━━━━━━━━━━━━━━━━━━━━━━━━━━━━━━━━\u001b[0m \u001b[32m664.8/664.8 MB\u001b[0m \u001b[31m2.6 MB/s\u001b[0m eta \u001b[36m0:00:00\u001b[0m\n",
            "\u001b[?25hDownloading nvidia_cufft_cu12-11.2.1.3-py3-none-manylinux2014_x86_64.whl (211.5 MB)\n",
            "\u001b[2K   \u001b[90m━━━━━━━━━━━━━━━━━━━━━━━━━━━━━━━━━━━━━━━━\u001b[0m \u001b[32m211.5/211.5 MB\u001b[0m \u001b[31m5.5 MB/s\u001b[0m eta \u001b[36m0:00:00\u001b[0m\n",
            "\u001b[?25hDownloading nvidia_curand_cu12-10.3.5.147-py3-none-manylinux2014_x86_64.whl (56.3 MB)\n",
            "\u001b[2K   \u001b[90m━━━━━━━━━━━━━━━━━━━━━━━━━━━━━━━━━━━━━━━━\u001b[0m \u001b[32m56.3/56.3 MB\u001b[0m \u001b[31m11.5 MB/s\u001b[0m eta \u001b[36m0:00:00\u001b[0m\n",
            "\u001b[?25hDownloading nvidia_cusolver_cu12-11.6.1.9-py3-none-manylinux2014_x86_64.whl (127.9 MB)\n",
            "\u001b[2K   \u001b[90m━━━━━━━━━━━━━━━━━━━━━━━━━━━━━━━━━━━━━━━━\u001b[0m \u001b[32m127.9/127.9 MB\u001b[0m \u001b[31m7.6 MB/s\u001b[0m eta \u001b[36m0:00:00\u001b[0m\n",
            "\u001b[?25hDownloading nvidia_cusparse_cu12-12.3.1.170-py3-none-manylinux2014_x86_64.whl (207.5 MB)\n",
            "\u001b[2K   \u001b[90m━━━━━━━━━━━━━━━━━━━━━━━━━━━━━━━━━━━━━━━━\u001b[0m \u001b[32m207.5/207.5 MB\u001b[0m \u001b[31m5.4 MB/s\u001b[0m eta \u001b[36m0:00:00\u001b[0m\n",
            "\u001b[?25hDownloading nvidia_nvjitlink_cu12-12.4.127-py3-none-manylinux2014_x86_64.whl (21.1 MB)\n",
            "\u001b[2K   \u001b[90m━━━━━━━━━━━━━━━━━━━━━━━━━━━━━━━━━━━━━━━━\u001b[0m \u001b[32m21.1/21.1 MB\u001b[0m \u001b[31m109.9 MB/s\u001b[0m eta \u001b[36m0:00:00\u001b[0m\n",
            "\u001b[?25hDownloading ultralytics_thop-2.0.14-py3-none-any.whl (26 kB)\n",
            "Installing collected packages: nvidia-nvjitlink-cu12, nvidia-curand-cu12, nvidia-cufft-cu12, nvidia-cuda-runtime-cu12, nvidia-cuda-nvrtc-cu12, nvidia-cuda-cupti-cu12, nvidia-cublas-cu12, nvidia-cusparse-cu12, nvidia-cudnn-cu12, nvidia-cusolver-cu12, ultralytics-thop, ultralytics\n",
            "  Attempting uninstall: nvidia-nvjitlink-cu12\n",
            "    Found existing installation: nvidia-nvjitlink-cu12 12.5.82\n",
            "    Uninstalling nvidia-nvjitlink-cu12-12.5.82:\n",
            "      Successfully uninstalled nvidia-nvjitlink-cu12-12.5.82\n",
            "  Attempting uninstall: nvidia-curand-cu12\n",
            "    Found existing installation: nvidia-curand-cu12 10.3.6.82\n",
            "    Uninstalling nvidia-curand-cu12-10.3.6.82:\n",
            "      Successfully uninstalled nvidia-curand-cu12-10.3.6.82\n",
            "  Attempting uninstall: nvidia-cufft-cu12\n",
            "    Found existing installation: nvidia-cufft-cu12 11.2.3.61\n",
            "    Uninstalling nvidia-cufft-cu12-11.2.3.61:\n",
            "      Successfully uninstalled nvidia-cufft-cu12-11.2.3.61\n",
            "  Attempting uninstall: nvidia-cuda-runtime-cu12\n",
            "    Found existing installation: nvidia-cuda-runtime-cu12 12.5.82\n",
            "    Uninstalling nvidia-cuda-runtime-cu12-12.5.82:\n",
            "      Successfully uninstalled nvidia-cuda-runtime-cu12-12.5.82\n",
            "  Attempting uninstall: nvidia-cuda-nvrtc-cu12\n",
            "    Found existing installation: nvidia-cuda-nvrtc-cu12 12.5.82\n",
            "    Uninstalling nvidia-cuda-nvrtc-cu12-12.5.82:\n",
            "      Successfully uninstalled nvidia-cuda-nvrtc-cu12-12.5.82\n",
            "  Attempting uninstall: nvidia-cuda-cupti-cu12\n",
            "    Found existing installation: nvidia-cuda-cupti-cu12 12.5.82\n",
            "    Uninstalling nvidia-cuda-cupti-cu12-12.5.82:\n",
            "      Successfully uninstalled nvidia-cuda-cupti-cu12-12.5.82\n",
            "  Attempting uninstall: nvidia-cublas-cu12\n",
            "    Found existing installation: nvidia-cublas-cu12 12.5.3.2\n",
            "    Uninstalling nvidia-cublas-cu12-12.5.3.2:\n",
            "      Successfully uninstalled nvidia-cublas-cu12-12.5.3.2\n",
            "  Attempting uninstall: nvidia-cusparse-cu12\n",
            "    Found existing installation: nvidia-cusparse-cu12 12.5.1.3\n",
            "    Uninstalling nvidia-cusparse-cu12-12.5.1.3:\n",
            "      Successfully uninstalled nvidia-cusparse-cu12-12.5.1.3\n",
            "  Attempting uninstall: nvidia-cudnn-cu12\n",
            "    Found existing installation: nvidia-cudnn-cu12 9.3.0.75\n",
            "    Uninstalling nvidia-cudnn-cu12-9.3.0.75:\n",
            "      Successfully uninstalled nvidia-cudnn-cu12-9.3.0.75\n",
            "  Attempting uninstall: nvidia-cusolver-cu12\n",
            "    Found existing installation: nvidia-cusolver-cu12 11.6.3.83\n",
            "    Uninstalling nvidia-cusolver-cu12-11.6.3.83:\n",
            "      Successfully uninstalled nvidia-cusolver-cu12-11.6.3.83\n",
            "Successfully installed nvidia-cublas-cu12-12.4.5.8 nvidia-cuda-cupti-cu12-12.4.127 nvidia-cuda-nvrtc-cu12-12.4.127 nvidia-cuda-runtime-cu12-12.4.127 nvidia-cudnn-cu12-9.1.0.70 nvidia-cufft-cu12-11.2.1.3 nvidia-curand-cu12-10.3.5.147 nvidia-cusolver-cu12-11.6.1.9 nvidia-cusparse-cu12-12.3.1.170 nvidia-nvjitlink-cu12-12.4.127 ultralytics-8.3.171 ultralytics-thop-2.0.14\n"
          ]
        }
      ]
    },
    {
      "cell_type": "markdown",
      "source": [
        "# **6、开始训练**"
      ],
      "metadata": {
        "id": "WBXw-t2T_Pmr"
      }
    },
    {
      "cell_type": "markdown",
      "source": [
        "运行以下代码开始训练。其中代码意义如下，可自定义修改。"
      ],
      "metadata": {
        "id": "-h9eGHfeLays"
      }
    },
    {
      "cell_type": "markdown",
      "source": [
        "```\n",
        "model=yolov8n.pt：指定预训练模型\n",
        "epochs=10：训练轮数\n",
        "imgsz=640：输入图片尺寸\n",
        "```"
      ],
      "metadata": {
        "id": "J5YPUw8jLr6y"
      }
    },
    {
      "cell_type": "code",
      "source": [
        "!yolo detect train data=/content/data.yaml model=yolov8n.pt epochs=10 imgsz=640"
      ],
      "metadata": {
        "colab": {
          "base_uri": "https://localhost:8080/"
        },
        "id": "WdC1PxF2LQrP",
        "outputId": "39ee1f83-b054-41f9-a0f5-aebe034cbbc0"
      },
      "execution_count": null,
      "outputs": [
        {
          "output_type": "stream",
          "name": "stdout",
          "text": [
            "Downloading https://github.com/ultralytics/assets/releases/download/v8.3.0/yolov8n.pt to 'yolov8n.pt'...\n",
            "100% 6.25M/6.25M [00:00<00:00, 101MB/s]\n",
            "Ultralytics 8.3.171 🚀 Python-3.11.13 torch-2.6.0+cu124 CUDA:0 (Tesla T4, 15095MiB)\n",
            "\u001b[34m\u001b[1mengine/trainer: \u001b[0magnostic_nms=False, amp=True, augment=False, auto_augment=randaugment, batch=16, bgr=0.0, box=7.5, cache=False, cfg=None, classes=None, close_mosaic=10, cls=0.5, conf=None, copy_paste=0.0, copy_paste_mode=flip, cos_lr=False, cutmix=0.0, data=/content/data.yaml, degrees=0.0, deterministic=True, device=None, dfl=1.5, dnn=False, dropout=0.0, dynamic=False, embed=None, epochs=10, erasing=0.4, exist_ok=False, fliplr=0.5, flipud=0.0, format=torchscript, fraction=1.0, freeze=None, half=False, hsv_h=0.015, hsv_s=0.7, hsv_v=0.4, imgsz=640, int8=False, iou=0.7, keras=False, kobj=1.0, line_width=None, lr0=0.01, lrf=0.01, mask_ratio=4, max_det=300, mixup=0.0, mode=train, model=yolov8n.pt, momentum=0.937, mosaic=1.0, multi_scale=False, name=train, nbs=64, nms=False, opset=None, optimize=False, optimizer=auto, overlap_mask=True, patience=100, perspective=0.0, plots=True, pose=12.0, pretrained=True, profile=False, project=None, rect=False, resume=False, retina_masks=False, save=True, save_conf=False, save_crop=False, save_dir=runs/detect/train, save_frames=False, save_json=False, save_period=-1, save_txt=False, scale=0.5, seed=0, shear=0.0, show=False, show_boxes=True, show_conf=True, show_labels=True, simplify=True, single_cls=False, source=None, split=val, stream_buffer=False, task=detect, time=None, tracker=botsort.yaml, translate=0.1, val=True, verbose=True, vid_stride=1, visualize=False, warmup_bias_lr=0.1, warmup_epochs=3.0, warmup_momentum=0.8, weight_decay=0.0005, workers=8, workspace=None\n",
            "Downloading https://ultralytics.com/assets/Arial.ttf to '/root/.config/Ultralytics/Arial.ttf'...\n",
            "100% 755k/755k [00:00<00:00, 22.7MB/s]\n",
            "Overriding model.yaml nc=80 with nc=2\n",
            "\n",
            "                   from  n    params  module                                       arguments                     \n",
            "  0                  -1  1       464  ultralytics.nn.modules.conv.Conv             [3, 16, 3, 2]                 \n",
            "  1                  -1  1      4672  ultralytics.nn.modules.conv.Conv             [16, 32, 3, 2]                \n",
            "  2                  -1  1      7360  ultralytics.nn.modules.block.C2f             [32, 32, 1, True]             \n",
            "  3                  -1  1     18560  ultralytics.nn.modules.conv.Conv             [32, 64, 3, 2]                \n",
            "  4                  -1  2     49664  ultralytics.nn.modules.block.C2f             [64, 64, 2, True]             \n",
            "  5                  -1  1     73984  ultralytics.nn.modules.conv.Conv             [64, 128, 3, 2]               \n",
            "  6                  -1  2    197632  ultralytics.nn.modules.block.C2f             [128, 128, 2, True]           \n",
            "  7                  -1  1    295424  ultralytics.nn.modules.conv.Conv             [128, 256, 3, 2]              \n",
            "  8                  -1  1    460288  ultralytics.nn.modules.block.C2f             [256, 256, 1, True]           \n",
            "  9                  -1  1    164608  ultralytics.nn.modules.block.SPPF            [256, 256, 5]                 \n",
            " 10                  -1  1         0  torch.nn.modules.upsampling.Upsample         [None, 2, 'nearest']          \n",
            " 11             [-1, 6]  1         0  ultralytics.nn.modules.conv.Concat           [1]                           \n",
            " 12                  -1  1    148224  ultralytics.nn.modules.block.C2f             [384, 128, 1]                 \n",
            " 13                  -1  1         0  torch.nn.modules.upsampling.Upsample         [None, 2, 'nearest']          \n",
            " 14             [-1, 4]  1         0  ultralytics.nn.modules.conv.Concat           [1]                           \n",
            " 15                  -1  1     37248  ultralytics.nn.modules.block.C2f             [192, 64, 1]                  \n",
            " 16                  -1  1     36992  ultralytics.nn.modules.conv.Conv             [64, 64, 3, 2]                \n",
            " 17            [-1, 12]  1         0  ultralytics.nn.modules.conv.Concat           [1]                           \n",
            " 18                  -1  1    123648  ultralytics.nn.modules.block.C2f             [192, 128, 1]                 \n",
            " 19                  -1  1    147712  ultralytics.nn.modules.conv.Conv             [128, 128, 3, 2]              \n",
            " 20             [-1, 9]  1         0  ultralytics.nn.modules.conv.Concat           [1]                           \n",
            " 21                  -1  1    493056  ultralytics.nn.modules.block.C2f             [384, 256, 1]                 \n",
            " 22        [15, 18, 21]  1    751702  ultralytics.nn.modules.head.Detect           [2, [64, 128, 256]]           \n",
            "Model summary: 129 layers, 3,011,238 parameters, 3,011,222 gradients, 8.2 GFLOPs\n",
            "\n",
            "Transferred 319/355 items from pretrained weights\n",
            "Freezing layer 'model.22.dfl.conv.weight'\n",
            "\u001b[34m\u001b[1mAMP: \u001b[0mrunning Automatic Mixed Precision (AMP) checks...\n",
            "Downloading https://github.com/ultralytics/assets/releases/download/v8.3.0/yolo11n.pt to 'yolo11n.pt'...\n",
            "100% 5.35M/5.35M [00:00<00:00, 87.4MB/s]\n",
            "\u001b[34m\u001b[1mAMP: \u001b[0mchecks passed ✅\n",
            "\u001b[34m\u001b[1mtrain: \u001b[0mFast image access ✅ (ping: 0.0±0.0 ms, read: 106.8±67.4 MB/s, size: 242.2 KB)\n",
            "\u001b[34m\u001b[1mtrain: \u001b[0mScanning /content/data/labels/train... 6 images, 0 backgrounds, 0 corrupt: 100% 6/6 [00:00<00:00, 28.31it/s]\n",
            "\u001b[34m\u001b[1mtrain: \u001b[0m/content/data/images/train/微信图片_20250731121456_229.jpg: corrupt JPEG restored and saved\n",
            "\u001b[34m\u001b[1mtrain: \u001b[0m/content/data/images/train/微信图片_20250731131321_273.jpg: corrupt JPEG restored and saved\n",
            "\u001b[34m\u001b[1mtrain: \u001b[0m/content/data/images/train/微信图片_20250731131321_278.jpg: corrupt JPEG restored and saved\n",
            "\u001b[34m\u001b[1mtrain: \u001b[0m/content/data/images/train/微信图片_20250731155238_291.jpg: corrupt JPEG restored and saved\n",
            "\u001b[34m\u001b[1mtrain: \u001b[0m/content/data/images/train/微信图片_20250731155238_292.jpg: corrupt JPEG restored and saved\n",
            "\u001b[34m\u001b[1mtrain: \u001b[0m/content/data/images/train/微信图片_20250731155238_293.jpg: corrupt JPEG restored and saved\n",
            "\u001b[34m\u001b[1mtrain: \u001b[0mNew cache created: /content/data/labels/train.cache\n",
            "\u001b[34m\u001b[1malbumentations: \u001b[0mBlur(p=0.01, blur_limit=(3, 7)), MedianBlur(p=0.01, blur_limit=(3, 7)), ToGray(p=0.01, method='weighted_average', num_output_channels=3), CLAHE(p=0.01, clip_limit=(1.0, 4.0), tile_grid_size=(8, 8))\n",
            "\u001b[34m\u001b[1mval: \u001b[0mFast image access ✅ (ping: 0.0±0.0 ms, read: 153.2±93.3 MB/s, size: 282.5 KB)\n",
            "\u001b[34m\u001b[1mval: \u001b[0mScanning /content/data/labels/val... 2 images, 0 backgrounds, 0 corrupt: 100% 2/2 [00:00<00:00, 15.84it/s]\n",
            "\u001b[34m\u001b[1mval: \u001b[0m/content/data/images/val/微信图片_20250731121456_231.jpg: corrupt JPEG restored and saved\n",
            "\u001b[34m\u001b[1mval: \u001b[0m/content/data/images/val/微信图片_20250731155238_294.jpg: corrupt JPEG restored and saved\n",
            "\u001b[34m\u001b[1mval: \u001b[0mNew cache created: /content/data/labels/val.cache\n",
            "Plotting labels to runs/detect/train/labels.jpg... \n",
            "\u001b[34m\u001b[1moptimizer:\u001b[0m 'optimizer=auto' found, ignoring 'lr0=0.01' and 'momentum=0.937' and determining best 'optimizer', 'lr0' and 'momentum' automatically... \n",
            "\u001b[34m\u001b[1moptimizer:\u001b[0m AdamW(lr=0.001667, momentum=0.9) with parameter groups 57 weight(decay=0.0), 64 weight(decay=0.0005), 63 bias(decay=0.0)\n",
            "Image sizes 640 train, 640 val\n",
            "Using 2 dataloader workers\n",
            "Logging results to \u001b[1mruns/detect/train\u001b[0m\n",
            "Starting training for 10 epochs...\n",
            "Closing dataloader mosaic\n",
            "\u001b[34m\u001b[1malbumentations: \u001b[0mBlur(p=0.01, blur_limit=(3, 7)), MedianBlur(p=0.01, blur_limit=(3, 7)), ToGray(p=0.01, method='weighted_average', num_output_channels=3), CLAHE(p=0.01, clip_limit=(1.0, 4.0), tile_grid_size=(8, 8))\n",
            "\n",
            "      Epoch    GPU_mem   box_loss   cls_loss   dfl_loss  Instances       Size\n",
            "       1/10     0.785G       1.88      4.727      1.765          8        640: 100% 1/1 [00:01<00:00,  1.69s/it]\n",
            "                 Class     Images  Instances      Box(P          R      mAP50  mAP50-95): 100% 1/1 [00:01<00:00,  1.10s/it]\n",
            "                   all          2          2          0          0          0          0\n",
            "\n",
            "      Epoch    GPU_mem   box_loss   cls_loss   dfl_loss  Instances       Size\n",
            "       2/10     0.791G       2.29      4.664      2.019          8        640: 100% 1/1 [00:00<00:00,  8.47it/s]\n",
            "                 Class     Images  Instances      Box(P          R      mAP50  mAP50-95): 100% 1/1 [00:00<00:00,  6.50it/s]\n",
            "                   all          2          2          0          0          0          0\n",
            "\n",
            "      Epoch    GPU_mem   box_loss   cls_loss   dfl_loss  Instances       Size\n",
            "       3/10     0.797G      2.009      4.386        1.7          8        640: 100% 1/1 [00:00<00:00,  5.08it/s]\n",
            "                 Class     Images  Instances      Box(P          R      mAP50  mAP50-95): 100% 1/1 [00:00<00:00,  9.14it/s]\n",
            "                   all          2          2          0          0          0          0\n",
            "\n",
            "      Epoch    GPU_mem   box_loss   cls_loss   dfl_loss  Instances       Size\n",
            "       4/10     0.803G      1.916      4.451      1.891          8        640: 100% 1/1 [00:00<00:00,  4.70it/s]\n",
            "                 Class     Images  Instances      Box(P          R      mAP50  mAP50-95): 100% 1/1 [00:00<00:00, 11.57it/s]\n",
            "                   all          2          2          0          0          0          0\n",
            "\n",
            "      Epoch    GPU_mem   box_loss   cls_loss   dfl_loss  Instances       Size\n",
            "       5/10     0.822G      1.827      4.195      1.796          8        640: 100% 1/1 [00:00<00:00,  2.47it/s]\n",
            "                 Class     Images  Instances      Box(P          R      mAP50  mAP50-95): 100% 1/1 [00:00<00:00, 11.98it/s]\n",
            "                   all          2          2          0          0          0          0\n",
            "\n",
            "      Epoch    GPU_mem   box_loss   cls_loss   dfl_loss  Instances       Size\n",
            "       6/10     0.846G      1.827      4.501      1.686          8        640: 100% 1/1 [00:00<00:00,  5.23it/s]\n",
            "                 Class     Images  Instances      Box(P          R      mAP50  mAP50-95): 100% 1/1 [00:00<00:00,  7.91it/s]\n",
            "                   all          2          2          0          0          0          0\n",
            "\n",
            "      Epoch    GPU_mem   box_loss   cls_loss   dfl_loss  Instances       Size\n",
            "       7/10     0.863G      1.904      4.912      1.531          8        640: 100% 1/1 [00:00<00:00,  4.65it/s]\n",
            "                 Class     Images  Instances      Box(P          R      mAP50  mAP50-95): 100% 1/1 [00:00<00:00, 10.40it/s]\n",
            "                   all          2          2          0          0          0          0\n",
            "\n",
            "      Epoch    GPU_mem   box_loss   cls_loss   dfl_loss  Instances       Size\n",
            "       8/10     0.879G      2.082      3.989      1.835          8        640: 100% 1/1 [00:00<00:00,  7.32it/s]\n",
            "                 Class     Images  Instances      Box(P          R      mAP50  mAP50-95): 100% 1/1 [00:00<00:00, 14.53it/s]\n",
            "                   all          2          2          0          0          0          0\n",
            "\n",
            "      Epoch    GPU_mem   box_loss   cls_loss   dfl_loss  Instances       Size\n",
            "       9/10     0.896G      2.023      4.283      1.789          8        640: 100% 1/1 [00:00<00:00,  7.77it/s]\n",
            "                 Class     Images  Instances      Box(P          R      mAP50  mAP50-95): 100% 1/1 [00:00<00:00, 12.43it/s]\n",
            "                   all          2          2          0          0          0          0\n",
            "\n",
            "      Epoch    GPU_mem   box_loss   cls_loss   dfl_loss  Instances       Size\n",
            "      10/10     0.914G      1.795      4.318       1.54          8        640: 100% 1/1 [00:00<00:00,  7.23it/s]\n",
            "                 Class     Images  Instances      Box(P          R      mAP50  mAP50-95): 100% 1/1 [00:00<00:00, 26.00it/s]\n",
            "                   all          2          2          0          0          0          0\n",
            "\n",
            "10 epochs completed in 0.002 hours.\n",
            "Optimizer stripped from runs/detect/train/weights/last.pt, 6.2MB\n",
            "Optimizer stripped from runs/detect/train/weights/best.pt, 6.2MB\n",
            "\n",
            "Validating runs/detect/train/weights/best.pt...\n",
            "Ultralytics 8.3.171 🚀 Python-3.11.13 torch-2.6.0+cu124 CUDA:0 (Tesla T4, 15095MiB)\n",
            "Model summary (fused): 72 layers, 3,006,038 parameters, 0 gradients, 8.1 GFLOPs\n",
            "                 Class     Images  Instances      Box(P          R      mAP50  mAP50-95): 100% 1/1 [00:00<00:00, 26.69it/s]\n",
            "                   all          2          2          0          0          0          0\n",
            "                  date          2          2          0          0          0          0\n",
            "Speed: 0.3ms preprocess, 7.1ms inference, 0.0ms loss, 2.8ms postprocess per image\n",
            "Results saved to \u001b[1mruns/detect/train\u001b[0m\n",
            "💡 Learn more at https://docs.ultralytics.com/modes/train\n"
          ]
        }
      ]
    },
    {
      "cell_type": "markdown",
      "source": [
        "默认情况下，YOLOv8会将训练结果保存在/content/runs/detect/train/。该目录包含："
      ],
      "metadata": {
        "id": "jzwZtbi9Lz5M"
      }
    },
    {
      "cell_type": "markdown",
      "source": [
        "```\n",
        "模型文件：best.pt（最佳模型）、last.pt（最后一轮模型）\n",
        "训练日志：results.csv、results.png\n",
        "验证结果：验证图片和预测结果\n",
        "配置文件：训练配置和超参数\n",
        "```"
      ],
      "metadata": {
        "id": "ksd7Bho8L7x4"
      }
    },
    {
      "cell_type": "markdown",
      "source": [
        "# **7、下载数据集和训练成果**"
      ],
      "metadata": {
        "id": "b4JRxv8jMKI7"
      }
    },
    {
      "cell_type": "markdown",
      "source": [
        "ultralyticsHUB平台提供了在线demo服务，因此下载数据集data后，可以自行压缩上传到HUB的data平台上训练，方便直接查看效果。"
      ],
      "metadata": {
        "id": "wlGk6-aNOvwm"
      }
    },
    {
      "cell_type": "code",
      "source": [
        "# 创建完整项目包\n",
        "!mkdir /content/myproject 2>/dev/null\n",
        "!cp -r /content/data /content/myproject/ 2>/dev/null\n",
        "!cp /content/data.yaml /content/myproject/data 2>/dev/null\n",
        "!cp /content/runs/detect/train/weights/best.pt /content/myproject/my_model.pt 2>/dev/null\n",
        "\n",
        "# 将myproject文件夹压缩\n",
        "!cd myproject && zip -qq -r /content/my_project.zip ."
      ],
      "metadata": {
        "id": "CZZFHibLNPuH"
      },
      "execution_count": null,
      "outputs": []
    },
    {
      "cell_type": "markdown",
      "source": [
        "下面这一步利用代码下载，可能花的时间比较长，也可以直接从边栏点击···下载。"
      ],
      "metadata": {
        "id": "kTv28RLQNUUI"
      }
    },
    {
      "cell_type": "code",
      "source": [
        "from google.colab import files\n",
        "files.download('/content/complete_project.zip')"
      ],
      "metadata": {
        "colab": {
          "base_uri": "https://localhost:8080/",
          "height": 17
        },
        "id": "bDGQUBKFNT7K",
        "outputId": "c1982da9-429f-46a6-a9cd-4ada504a93fc"
      },
      "execution_count": null,
      "outputs": [
        {
          "output_type": "display_data",
          "data": {
            "text/plain": [
              "<IPython.core.display.Javascript object>"
            ],
            "application/javascript": [
              "\n",
              "    async function download(id, filename, size) {\n",
              "      if (!google.colab.kernel.accessAllowed) {\n",
              "        return;\n",
              "      }\n",
              "      const div = document.createElement('div');\n",
              "      const label = document.createElement('label');\n",
              "      label.textContent = `Downloading \"${filename}\": `;\n",
              "      div.appendChild(label);\n",
              "      const progress = document.createElement('progress');\n",
              "      progress.max = size;\n",
              "      div.appendChild(progress);\n",
              "      document.body.appendChild(div);\n",
              "\n",
              "      const buffers = [];\n",
              "      let downloaded = 0;\n",
              "\n",
              "      const channel = await google.colab.kernel.comms.open(id);\n",
              "      // Send a message to notify the kernel that we're ready.\n",
              "      channel.send({})\n",
              "\n",
              "      for await (const message of channel.messages) {\n",
              "        // Send a message to notify the kernel that we're ready.\n",
              "        channel.send({})\n",
              "        if (message.buffers) {\n",
              "          for (const buffer of message.buffers) {\n",
              "            buffers.push(buffer);\n",
              "            downloaded += buffer.byteLength;\n",
              "            progress.value = downloaded;\n",
              "          }\n",
              "        }\n",
              "      }\n",
              "      const blob = new Blob(buffers, {type: 'application/binary'});\n",
              "      const a = document.createElement('a');\n",
              "      a.href = window.URL.createObjectURL(blob);\n",
              "      a.download = filename;\n",
              "      div.appendChild(a);\n",
              "      a.click();\n",
              "      div.remove();\n",
              "    }\n",
              "  "
            ]
          },
          "metadata": {}
        },
        {
          "output_type": "display_data",
          "data": {
            "text/plain": [
              "<IPython.core.display.Javascript object>"
            ],
            "application/javascript": [
              "download(\"download_9f9112e2-f946-481a-af15-df0c2d134e1b\", \"complete_project.zip\", 12946883)"
            ]
          },
          "metadata": {}
        }
      ]
    },
    {
      "cell_type": "markdown",
      "source": [
        "# **8、在本地调用模型**"
      ],
      "metadata": {
        "id": "j7a04sKtQhHr"
      }
    },
    {
      "cell_type": "markdown",
      "source": [
        "本地调用模型需要预先安装pytorch和ultralytics两个库。"
      ],
      "metadata": {
        "id": "Yzc8ThtvRWs5"
      }
    },
    {
      "cell_type": "markdown",
      "source": [
        "尽量使用py3.11+的虚拟环境。注意该虚拟环境和labelImg的不能是同一个，因为labelImg只能匹配py3.9解释器。"
      ],
      "metadata": {
        "id": "ZRSZ81L5WEtQ"
      }
    },
    {
      "cell_type": "markdown",
      "source": [
        "从官网获取下载pytorch的适配命令行：https://pytorch.org/"
      ],
      "metadata": {
        "id": "TZYlADFIRCKB"
      }
    },
    {
      "cell_type": "markdown",
      "source": [
        "ultralytics安装命令行：pip3 install ultralytics"
      ],
      "metadata": {
        "id": "Q_EbOmDKSg12"
      }
    },
    {
      "cell_type": "markdown",
      "source": [
        "另外conda命令似乎无法下载这两个库，最好使用pip。"
      ],
      "metadata": {
        "id": "uQwGBwakQk9Q"
      }
    },
    {
      "cell_type": "markdown",
      "source": [
        "# **备用**"
      ],
      "metadata": {
        "id": "Fz5n-iUtDB69"
      }
    },
    {
      "cell_type": "markdown",
      "source": [
        "从边栏删除文件夹的命令行代码"
      ],
      "metadata": {
        "id": "dWJpy1BJDHks"
      }
    },
    {
      "cell_type": "code",
      "source": [
        "!rm -rf /content/custom_data"
      ],
      "metadata": {
        "id": "GHB-SPQ9C-Fc"
      },
      "execution_count": null,
      "outputs": []
    }
  ]
}